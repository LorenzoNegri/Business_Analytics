{
 "cells": [
  {
   "cell_type": "markdown",
   "metadata": {},
   "source": [
    "# Probability & Statistics applications in Sales Management Analysis "
   ]
  },
  {
   "cell_type": "markdown",
   "metadata": {},
   "source": [
    "A collection of data driven problem solving cases applied to assist sales management decisions, addressed in a data science perspective with applied mathematical, statistical and probability skills."
   ]
  },
  {
   "cell_type": "markdown",
   "metadata": {},
   "source": [
    "### Table of Contents\n",
    "- 1. Salesperson Time\n",
    "- 2. Net Gain from Salesperson activity\n",
    "- 3. Fuel Retailer Company Sales Achievements\n",
    "- ??? ?? "
   ]
  },
  {
   "cell_type": "markdown",
   "metadata": {},
   "source": [
    "***"
   ]
  },
  {
   "cell_type": "markdown",
   "metadata": {},
   "source": [
    "## 1. Salesperson Time"
   ]
  },
  {
   "cell_type": "markdown",
   "metadata": {},
   "source": [
    "An operator works at a call center as a phone salesperson. The call center records the number of contracts closed on a hourly basis and the time spent on the phone. \n",
    "\n",
    "**Based on the data available the sales director requests an elaboration of the expected time the operator spends on the phone every hour, and the probability for the operator to close more than 10 contracts every hour.**\n",
    "\n",
    "An excel report file is available for the last month for that operator."
   ]
  },
  {
   "cell_type": "markdown",
   "metadata": {},
   "source": [
    "I'll use Python with basic libraries and KernelDensity from Scikit-learn, this is because, in order to solve this problem, **we'll need some machine learning power.**"
   ]
  },
  {
   "cell_type": "code",
   "execution_count": 10,
   "metadata": {},
   "outputs": [],
   "source": [
    "import pandas as pd\n",
    "import numpy as np\n",
    "import matplotlib.pyplot as plt\n",
    "import scipy.stats\n",
    "from sklearn.neighbors import KernelDensity"
   ]
  },
  {
   "cell_type": "markdown",
   "metadata": {},
   "source": [
    "And now we can import the excel file:"
   ]
  },
  {
   "cell_type": "code",
   "execution_count": 3,
   "metadata": {},
   "outputs": [
    {
     "data": {
      "text/html": [
       "<div>\n",
       "<style scoped>\n",
       "    .dataframe tbody tr th:only-of-type {\n",
       "        vertical-align: middle;\n",
       "    }\n",
       "\n",
       "    .dataframe tbody tr th {\n",
       "        vertical-align: top;\n",
       "    }\n",
       "\n",
       "    .dataframe thead th {\n",
       "        text-align: right;\n",
       "    }\n",
       "</style>\n",
       "<table border=\"1\" class=\"dataframe\">\n",
       "  <thead>\n",
       "    <tr style=\"text-align: right;\">\n",
       "      <th></th>\n",
       "      <th>hrID</th>\n",
       "      <th>contracts</th>\n",
       "      <th>time</th>\n",
       "    </tr>\n",
       "  </thead>\n",
       "  <tbody>\n",
       "    <tr>\n",
       "      <td>0</td>\n",
       "      <td>1001</td>\n",
       "      <td>7</td>\n",
       "      <td>00:42:50.808000</td>\n",
       "    </tr>\n",
       "    <tr>\n",
       "      <td>1</td>\n",
       "      <td>1002</td>\n",
       "      <td>0</td>\n",
       "      <td>00:05:40.540000</td>\n",
       "    </tr>\n",
       "    <tr>\n",
       "      <td>2</td>\n",
       "      <td>1003</td>\n",
       "      <td>0</td>\n",
       "      <td>00:05:18.919000</td>\n",
       "    </tr>\n",
       "    <tr>\n",
       "      <td>3</td>\n",
       "      <td>1004</td>\n",
       "      <td>1</td>\n",
       "      <td>00:16:19.999000</td>\n",
       "    </tr>\n",
       "    <tr>\n",
       "      <td>4</td>\n",
       "      <td>1005</td>\n",
       "      <td>1</td>\n",
       "      <td>00:13:04.864000</td>\n",
       "    </tr>\n",
       "  </tbody>\n",
       "</table>\n",
       "</div>"
      ],
      "text/plain": [
       "   hrID  contracts             time\n",
       "0  1001          7  00:42:50.808000\n",
       "1  1002          0  00:05:40.540000\n",
       "2  1003          0  00:05:18.919000\n",
       "3  1004          1  00:16:19.999000\n",
       "4  1005          1  00:13:04.864000"
      ]
     },
     "execution_count": 3,
     "metadata": {},
     "output_type": "execute_result"
    }
   ],
   "source": [
    "operator = pd.read_excel('operator_sales.xlsx',\n",
    "#sheetname=0,\n",
    "header=0,\n",
    "index_col=False,\n",
    "keep_default_na=True\n",
    ")\n",
    "#display first rows\n",
    "operator.head()"
   ]
  },
  {
   "cell_type": "markdown",
   "metadata": {},
   "source": [
    "`time` feauture is not in the correct format by default so we need to apply some changes in order to make calculations, and maybe grouping it by contracts. I'll create a **function** with parameters: ***dataset, grouping column, and the time column***. And then generate some statistics for time data."
   ]
  },
  {
   "cell_type": "code",
   "execution_count": 4,
   "metadata": {},
   "outputs": [],
   "source": [
    "def stats_time(data,group_by,time_col_name):\n",
    "    \n",
    "    #change time format\n",
    "    data[time_col_name] = pd.to_datetime(data[time_col_name], format='%H:%M:%S.%f')\n",
    "    \n",
    "    #create a global variables to access later on\n",
    "    global df_stats_time\n",
    "    global groups\n",
    "    \n",
    "    #group by contracts\n",
    "    group = data.groupby(group_by)\n",
    "    \n",
    "    #prepare dataframe with average times per contract in total minutes, also min and max times\n",
    "    dat = pd.DataFrame(([i, \n",
    "                        int(round(float(data[time_col_name][group.groups.get(i)].mean().strftime('%M.%S')), 0)) % 60,\n",
    "                        data[time_col_name][group.groups.get(i)].min().strftime('%M:%S'),\n",
    "                        data[time_col_name][group.groups.get(i)].max().strftime('%M:%S')] \n",
    "                      for i in range(0,len(group))),\n",
    "                      columns=[group_by,'AverageTimeMinutes',\"MinimumTime\",\"MaximumTime\"])\n",
    "    \n",
    "    #assign dataframe to the global variables\n",
    "    df_stats_time = dat\n",
    "    groups = group\n",
    "    #return printed results\n",
    "    print('Statistics:\\n',dat.to_string(index=False),'\\n')\n",
    "    print(\"Use 'df_stats_time' as data frame for this table \\n\")\n",
    "    print(\"Use 'groups' to query the grouped data\\n\")"
   ]
  },
  {
   "cell_type": "markdown",
   "metadata": {},
   "source": [
    "Now I can use the function:"
   ]
  },
  {
   "cell_type": "code",
   "execution_count": 5,
   "metadata": {},
   "outputs": [
    {
     "name": "stdout",
     "output_type": "stream",
     "text": [
      "Statistics:\n",
      "  contracts  AverageTimeMinutes MinimumTime MaximumTime\n",
      "         0                   7       01:50       16:12\n",
      "         1                  12       04:21       21:04\n",
      "         2                  15       08:53       26:29\n",
      "         3                  21       17:17       29:16\n",
      "         4                  24       15:52       32:12\n",
      "         5                  31       22:47       39:38\n",
      "         6                  36       31:22       42:09\n",
      "         7                  32       26:51       42:50\n",
      "         8                  41       34:03       49:39\n",
      "         9                  49       44:35       51:21\n",
      "        10                  45       42:58       49:37 \n",
      "\n",
      "Use 'df_stats_time' as data frame for this table \n",
      "\n",
      "Use 'groups' to query the grouped data\n",
      "\n"
     ]
    }
   ],
   "source": [
    "stats_time(operator,'contracts','time')"
   ]
  },
  {
   "cell_type": "markdown",
   "metadata": {},
   "source": [
    "I've added some global variables in the function so we can do further calculations with it. For example I can compute now the average time of a call to close a contract:"
   ]
  },
  {
   "cell_type": "code",
   "execution_count": 6,
   "metadata": {},
   "outputs": [
    {
     "name": "stdout",
     "output_type": "stream",
     "text": [
      "The average time of a call to close one contract is 6 minutes\n"
     ]
    }
   ],
   "source": [
    "#using the global variable of the above function\n",
    "ls = []\n",
    "for index, row in df_stats_time[1:].iterrows(): #[1:] to skip the first row with 0 contracts\n",
    "         ls.append(row['AverageTimeMinutes']/row['contracts'])\n",
    "print('The average time of a call to close one contract is',int(round(np.median(ls),0)),'minutes')"
   ]
  },
  {
   "cell_type": "markdown",
   "metadata": {},
   "source": [
    "I can also query by the number of contracts in an hour:"
   ]
  },
  {
   "cell_type": "code",
   "execution_count": 7,
   "metadata": {},
   "outputs": [
    {
     "data": {
      "text/html": [
       "<div>\n",
       "<style scoped>\n",
       "    .dataframe tbody tr th:only-of-type {\n",
       "        vertical-align: middle;\n",
       "    }\n",
       "\n",
       "    .dataframe tbody tr th {\n",
       "        vertical-align: top;\n",
       "    }\n",
       "\n",
       "    .dataframe thead th {\n",
       "        text-align: right;\n",
       "    }\n",
       "</style>\n",
       "<table border=\"1\" class=\"dataframe\">\n",
       "  <thead>\n",
       "    <tr style=\"text-align: right;\">\n",
       "      <th></th>\n",
       "      <th>hrID</th>\n",
       "      <th>contracts</th>\n",
       "      <th>time</th>\n",
       "    </tr>\n",
       "  </thead>\n",
       "  <tbody>\n",
       "    <tr>\n",
       "      <td>49</td>\n",
       "      <td>1050</td>\n",
       "      <td>10</td>\n",
       "      <td>1900-01-01 00:42:58.376</td>\n",
       "    </tr>\n",
       "    <tr>\n",
       "      <td>120</td>\n",
       "      <td>1121</td>\n",
       "      <td>10</td>\n",
       "      <td>1900-01-01 00:43:35.133</td>\n",
       "    </tr>\n",
       "    <tr>\n",
       "      <td>145</td>\n",
       "      <td>1146</td>\n",
       "      <td>10</td>\n",
       "      <td>1900-01-01 00:49:37.294</td>\n",
       "    </tr>\n",
       "  </tbody>\n",
       "</table>\n",
       "</div>"
      ],
      "text/plain": [
       "     hrID  contracts                    time\n",
       "49   1050         10 1900-01-01 00:42:58.376\n",
       "120  1121         10 1900-01-01 00:43:35.133\n",
       "145  1146         10 1900-01-01 00:49:37.294"
      ]
     },
     "execution_count": 7,
     "metadata": {},
     "output_type": "execute_result"
    }
   ],
   "source": [
    "#query a group using the global variable of the function above\n",
    "operator.iloc[groups.groups.get(10)].head()"
   ]
  },
  {
   "cell_type": "markdown",
   "metadata": {},
   "source": [
    "Now we can see that it is not so easy for this operator closing more than 10 contracts in one hour. The average time is 45min for 10 contracts with a minimum of 43min and maximum of 49min. **The operator is only left with 15min of time and with an average of 6 minutes to close a contract (15/6=2.5 we can approximate to 3 contracts) this gives us a maximum of 10+3=13 contracts per hour.** \n",
    "\n",
    "This sounds quite strange because 13x6 is more than 60 minutes but we have to consider that the operator has an ability to close 10 contracts in 45 minutes and that is 4.5 minutes per contract, but as also made a 12 minutes call per contract in the data set. So we have to consider the average we have calculated above in order to have a realistic number of maximum contracts he could close in one hour, and if we take 60 minutes and divide it by 4.5 the result is 13.3 contracts that is 13 as expected. So we know our average is a good estimation."
   ]
  },
  {
   "cell_type": "markdown",
   "metadata": {},
   "source": [
    "Let's now view statistics for the contracts:"
   ]
  },
  {
   "cell_type": "code",
   "execution_count": 8,
   "metadata": {},
   "outputs": [
    {
     "data": {
      "text/plain": [
       "count    190.000000\n",
       "mean       2.615789\n",
       "std        2.685403\n",
       "min        0.000000\n",
       "25%        1.000000\n",
       "50%        1.000000\n",
       "75%        4.000000\n",
       "max       10.000000\n",
       "Name: contracts, dtype: float64"
      ]
     },
     "execution_count": 8,
     "metadata": {},
     "output_type": "execute_result"
    }
   ],
   "source": [
    "operator.contracts.describe()"
   ]
  },
  {
   "cell_type": "markdown",
   "metadata": {},
   "source": [
    "We have 190 hour records, and as we can see, this particular operator has closed a maximum of 10 contracts per hour in the last month. So it is difficult to evaluate if he can make more. \n",
    "\n",
    "**How can we compute the probability that he closes more than 10 contrats per hour?** Normally we would have to say that we cannot answer to this question with this data available, but we can make some estimations using **KDE (Kernel Density Estimation)**. KDE is a non-parametric way to estimate the probability density function of a random variable. It can help us by emulating the distribution even where we do not have the data, this by learning from the exixting one, and for example, it can then be used to predict the density across other ranges of unknown data."
   ]
  },
  {
   "cell_type": "markdown",
   "metadata": {},
   "source": [
    "I'll start by plotting the histogram of the data we have, and compute the kernel density estimation of that data."
   ]
  },
  {
   "cell_type": "code",
   "execution_count": 11,
   "metadata": {},
   "outputs": [
    {
     "data": {
      "image/png": "[encoded data removed]",
      "text/plain": [
       "<Figure size 432x288 with 1 Axes>"
      ]
     },
     "metadata": {
      "needs_background": "light"
     },
     "output_type": "display_data"
    }
   ],
   "source": [
    "#initialize data for computing\n",
    "data = operator.contracts.to_numpy().reshape(-1, 1)\n",
    "\n",
    "# linear space of numbers from min to max with n numbers\n",
    "x = np.linspace(min(operator.contracts), \n",
    "                max(operator.contracts), \n",
    "                1000)[:, np.newaxis]\n",
    "\n",
    "# Plot the data using a normalized histogram\n",
    "plt.hist(operator.contracts, 100, density=True)\n",
    "\n",
    "# Do kernel density estimation\n",
    "kd = KernelDensity(kernel='gaussian', bandwidth=0.75).fit(data)\n",
    "\n",
    "# Plot the estimated density with the linear space of numbers\n",
    "kd_vals = np.exp(kd.score_samples(x))\n",
    "plt.plot(x, kd_vals)\n",
    "\n",
    "# Show the plots\n",
    "plt.show()"
   ]
  },
  {
   "cell_type": "markdown",
   "metadata": {},
   "source": [
    "I can compute the probability of a range of contracts the operator can close in an hour time:"
   ]
  },
  {
   "cell_type": "code",
   "execution_count": 12,
   "metadata": {},
   "outputs": [
    {
     "name": "stdout",
     "output_type": "stream",
     "text": [
      "The probability to have closed contracts range from 0 to 10 every hour is: 0.87947\n"
     ]
    }
   ],
   "source": [
    "# Get probability for range of values\n",
    "start = 0  # Start of the range\n",
    "end = 10    # End of the range\n",
    "N = 1000    # Number of evaluation points \n",
    "step = (end - start) / (N - 1)  # Step size\n",
    "x = np.linspace(start, end, N)[:, np.newaxis]  # Generate values in the range\n",
    "kd_vals = np.exp(kd.score_samples(x))  # Get PDF values for each x\n",
    "probability = np.sum(kd_vals * step)  # Approximate the integral of the PDF\n",
    "print('The probability to have closed contracts range from',start,'to',end,'every hour is:',round(probability,5))"
   ]
  },
  {
   "cell_type": "markdown",
   "metadata": {},
   "source": [
    "We could actually say that the probability to have more than 10 contracts is 1 minus that result, but we have to consider that the bandwidth (smoothing parameter) of KDE can vary a lot these results. Low bandwidth values will better fit the data we have and this will return less probability to have more than 10 contracts per hour, viceversa an higher bandwidth will smooth the estimation expanding the probability to have more than 10 contracts per hour.\n",
    "\n",
    "So I'll create a function that replicates kde with different bandwidth values and then chooses the one most probable."
   ]
  },
  {
   "cell_type": "code",
   "execution_count": 13,
   "metadata": {},
   "outputs": [],
   "source": [
    "def replicate_kde(data,start, end, N, min_bandwith, max_bandwith, sample_bandwith):\n",
    "    #import numpy as np\n",
    "    ls = []\n",
    "    x = np.linspace(start, end, N)[:, np.newaxis]\n",
    "    step = (end - start) / (N - 1) \n",
    "    for i in np.linspace(min_bandwith, max_bandwith, sample_bandwith):\n",
    "        kdes = KernelDensity(kernel='gaussian', bandwidth=i).fit(data)\n",
    "        kd_vals = np.exp(kdes.score_samples(x))\n",
    "        probability = np.sum(kd_vals * step)\n",
    "        ls.append(round(probability,5))\n",
    "    print('The minimum probability of closed contracts in range from',start,'to',end,'every hour is:', min(ls))\n",
    "    print('The maximum probability of closed contracts in range from',start,'to',end,'every hour is:', max(ls))\n",
    "    print('The median is:')\n",
    "    return round(scipy.median(ls),5)"
   ]
  },
  {
   "cell_type": "markdown",
   "metadata": {},
   "source": [
    "I will now apply the function with a parameter range from 11 to 13 has calculated before (the maximum number of contracts this operator can closein one hour):"
   ]
  },
  {
   "cell_type": "code",
   "execution_count": 14,
   "metadata": {},
   "outputs": [
    {
     "name": "stdout",
     "output_type": "stream",
     "text": [
      "The minimum probability of closed contracts in range from 11 to 13 every hour is: 1e-05\n",
      "The maximum probability of closed contracts in range from 11 to 13 every hour is: 0.0197\n",
      "The median is:\n"
     ]
    },
    {
     "data": {
      "text/plain": [
       "0.00844"
      ]
     },
     "execution_count": 14,
     "metadata": {},
     "output_type": "execute_result"
    }
   ],
   "source": [
    "replicate_kde(data,11,13,1000,0.3, 3,100)"
   ]
  },
  {
   "cell_type": "markdown",
   "metadata": {},
   "source": [
    "I've computed the median of the results because if the data is skewed the average will tend to be less accurate. With the median we know that the higher density of the data will be close to this value.\n",
    "\n",
    "So we have a minimum probability of around zero and a maximum of 0.0197, and a median of 0.00844, that is 8 times every 1,000 hours or **a probability of approx 0.8% that the operator closes 11 or more contracts in 1 hour** with a maximum of 13 closed contracts."
   ]
  },
  {
   "cell_type": "markdown",
   "metadata": {},
   "source": [
    "Now, to compute the expected time the operator spends on the phone every hour we have to consider the data we have for the last month. So we'll compute the probability for each number of contracts closed in an hour and then calculte EVs.\n",
    "\n",
    "I'll use `Counter()` from `collections` to make the proces easier inside a function that returns the probabilty for a given number of contracts in our data:"
   ]
  },
  {
   "cell_type": "code",
   "execution_count": 15,
   "metadata": {},
   "outputs": [],
   "source": [
    "def probability(data_column,value):\n",
    "    from collections import Counter\n",
    "    c = Counter(data_column)\n",
    "    # returns the probability of a given number a\n",
    "    return float(c[value]) / len(data_column)"
   ]
  },
  {
   "cell_type": "markdown",
   "metadata": {},
   "source": [
    "Test the function:"
   ]
  },
  {
   "cell_type": "code",
   "execution_count": 16,
   "metadata": {},
   "outputs": [
    {
     "data": {
      "text/plain": [
       "0.015789473684210527"
      ]
     },
     "execution_count": 16,
     "metadata": {},
     "output_type": "execute_result"
    }
   ],
   "source": [
    "probability(operator.contracts,10)"
   ]
  },
  {
   "cell_type": "markdown",
   "metadata": {},
   "source": [
    "The resulted probability for 10 contracts in 1 hour is approx = 1.6%"
   ]
  },
  {
   "cell_type": "markdown",
   "metadata": {},
   "source": [
    "Now we can build the probability table:"
   ]
  },
  {
   "cell_type": "code",
   "execution_count": 17,
   "metadata": {},
   "outputs": [],
   "source": [
    "df_prob_operator = df_stats_time.loc[:,['contracts','AverageTimeMinutes']]\n",
    "df_prob_operator['Probability'] = [probability(operator.contracts,x) for x in df_prob_operator['contracts']]"
   ]
  },
  {
   "cell_type": "code",
   "execution_count": 21,
   "metadata": {},
   "outputs": [
    {
     "data": {
      "text/html": [
       "<div>\n",
       "<style scoped>\n",
       "    .dataframe tbody tr th:only-of-type {\n",
       "        vertical-align: middle;\n",
       "    }\n",
       "\n",
       "    .dataframe tbody tr th {\n",
       "        vertical-align: top;\n",
       "    }\n",
       "\n",
       "    .dataframe thead th {\n",
       "        text-align: right;\n",
       "    }\n",
       "</style>\n",
       "<table border=\"1\" class=\"dataframe\">\n",
       "  <thead>\n",
       "    <tr style=\"text-align: right;\">\n",
       "      <th></th>\n",
       "      <th>contracts</th>\n",
       "      <th>AverageTimeMinutes</th>\n",
       "      <th>Probability</th>\n",
       "    </tr>\n",
       "  </thead>\n",
       "  <tbody>\n",
       "    <tr>\n",
       "      <td>0</td>\n",
       "      <td>0</td>\n",
       "      <td>7</td>\n",
       "      <td>0.152632</td>\n",
       "    </tr>\n",
       "    <tr>\n",
       "      <td>1</td>\n",
       "      <td>1</td>\n",
       "      <td>12</td>\n",
       "      <td>0.378947</td>\n",
       "    </tr>\n",
       "    <tr>\n",
       "      <td>2</td>\n",
       "      <td>2</td>\n",
       "      <td>15</td>\n",
       "      <td>0.126316</td>\n",
       "    </tr>\n",
       "    <tr>\n",
       "      <td>3</td>\n",
       "      <td>3</td>\n",
       "      <td>21</td>\n",
       "      <td>0.073684</td>\n",
       "    </tr>\n",
       "    <tr>\n",
       "      <td>4</td>\n",
       "      <td>4</td>\n",
       "      <td>24</td>\n",
       "      <td>0.047368</td>\n",
       "    </tr>\n",
       "    <tr>\n",
       "      <td>5</td>\n",
       "      <td>5</td>\n",
       "      <td>31</td>\n",
       "      <td>0.047368</td>\n",
       "    </tr>\n",
       "    <tr>\n",
       "      <td>6</td>\n",
       "      <td>6</td>\n",
       "      <td>36</td>\n",
       "      <td>0.031579</td>\n",
       "    </tr>\n",
       "    <tr>\n",
       "      <td>7</td>\n",
       "      <td>7</td>\n",
       "      <td>32</td>\n",
       "      <td>0.042105</td>\n",
       "    </tr>\n",
       "    <tr>\n",
       "      <td>8</td>\n",
       "      <td>8</td>\n",
       "      <td>41</td>\n",
       "      <td>0.063158</td>\n",
       "    </tr>\n",
       "    <tr>\n",
       "      <td>9</td>\n",
       "      <td>9</td>\n",
       "      <td>49</td>\n",
       "      <td>0.021053</td>\n",
       "    </tr>\n",
       "    <tr>\n",
       "      <td>10</td>\n",
       "      <td>10</td>\n",
       "      <td>45</td>\n",
       "      <td>0.015789</td>\n",
       "    </tr>\n",
       "  </tbody>\n",
       "</table>\n",
       "</div>"
      ],
      "text/plain": [
       "    contracts  AverageTimeMinutes  Probability\n",
       "0           0                   7     0.152632\n",
       "1           1                  12     0.378947\n",
       "2           2                  15     0.126316\n",
       "3           3                  21     0.073684\n",
       "4           4                  24     0.047368\n",
       "5           5                  31     0.047368\n",
       "6           6                  36     0.031579\n",
       "7           7                  32     0.042105\n",
       "8           8                  41     0.063158\n",
       "9           9                  49     0.021053\n",
       "10         10                  45     0.015789"
      ]
     },
     "execution_count": 21,
     "metadata": {},
     "output_type": "execute_result"
    }
   ],
   "source": [
    "df_prob_operator.to_csv('prob_operator_distribution.csv', header=True, index=False)\n",
    "df_prob_operator"
   ]
  },
  {
   "cell_type": "markdown",
   "metadata": {},
   "source": [
    "I'll plot the probabilities even if we have already viewed the histogram with frequency for the contracts:"
   ]
  },
  {
   "cell_type": "code",
   "execution_count": 16,
   "metadata": {},
   "outputs": [
    {
     "data": {
      "image/png": "[encoded data removed]",
      "text/plain": [
       "<Figure size 432x288 with 1 Axes>"
      ]
     },
     "metadata": {
      "needs_background": "light"
     },
     "output_type": "display_data"
    }
   ],
   "source": [
    "#plotting probabilities\n",
    "plt.bar(df_prob_operator.contracts, df_prob_operator.Probability)\n",
    "plt.xticks(df_prob_operator.contracts, ('0','1','2','3','4','5','6','7','8','9','10'))\n",
    "plt.title('Probability of contracts in one hour')\n",
    "plt.xlabel('Number of contracts')\n",
    "plt.show()"
   ]
  },
  {
   "cell_type": "markdown",
   "metadata": {},
   "source": [
    "To compute now the expected time the operator spends on the phone each hour, we can do it by:\n",
    "    \n",
    "$$ \\sum_i\\;E(Ct_i) $$\n",
    "\n",
    "We can sum all the expected contracts times $E(Ct)=Ct*P(Ct)$"
   ]
  },
  {
   "cell_type": "code",
   "execution_count": 17,
   "metadata": {},
   "outputs": [],
   "source": [
    "#apply calculations\n",
    "df_prob_operator['Et'] = [x*i for x,i in zip(df_prob_operator.AverageTimeMinutes, df_prob_operator.Probability)]"
   ]
  },
  {
   "cell_type": "code",
   "execution_count": 18,
   "metadata": {},
   "outputs": [
    {
     "name": "stdout",
     "output_type": "stream",
     "text": [
      "    contracts  AverageTimeMinutes  Probability        Et\n",
      "0           0                   7     0.152632  1.068421\n",
      "1           1                  12     0.378947  4.547368\n",
      "2           2                  15     0.126316  1.894737\n",
      "3           3                  21     0.073684  1.547368\n",
      "4           4                  24     0.047368  1.136842\n",
      "5           5                  31     0.047368  1.468421\n",
      "6           6                  36     0.031579  1.136842\n",
      "7           7                  32     0.042105  1.347368\n",
      "8           8                  41     0.063158  2.589474\n",
      "9           9                  49     0.021053  1.031579\n",
      "10         10                  45     0.015789  0.710526\n",
      "\n",
      "The Expected Time for this operator is: 18.48 minutes spent on the phone every hour\n"
     ]
    }
   ],
   "source": [
    "#print resuts and table with EVs\n",
    "print(df_prob_operator)\n",
    "print('\\nThe Expected Time for this operator is:',\n",
    "      round(sum(df_prob_operator.Et),2),\n",
    "      'minutes spent on the phone every hour')"
   ]
  },
  {
   "cell_type": "markdown",
   "metadata": {},
   "source": [
    "**The time which the sales director can expect this operator spend on the phone every hour is 18 and a half minutes.**"
   ]
  },
  {
   "cell_type": "code",
   "execution_count": 105,
   "metadata": {},
   "outputs": [],
   "source": [
    "#dashboarding results\n",
    "from plotly.subplots import make_subplots\n",
    "import plotly.graph_objects as go\n",
    "#import plotly.express as px\n",
    "\n",
    "\n",
    "trace1 = go.Bar(name='Contracts Closed', \n",
    "                     showlegend=False,\n",
    "                     y=df_prob_operator.AverageTimeMinutes,\n",
    "                     marker=dict(color='#FFFFFF')) \n",
    "\n",
    "trace4 = go.Indicator(value = 0.844/1,\n",
    "                      number = {'suffix': '%'},\n",
    "                      domain = {'x': [0, 1], 'y': [0, 1]},\n",
    "                      #mode = \"gauge+number+delta\",\n",
    "                      mode = \"gauge+number\",\n",
    "                      delta = {'reference': 1.5789},\n",
    "                      #title = {'text': \" <br> Probability (%) of contracts > 10\"}, \n",
    "                      name = \"Probability (%) of contracts > 10\",\n",
    "                      gauge = {'axis': {'range': [8, 15], 'dtick' : [1], 'tick0' : [1]},\n",
    "                               'shape' : 'bullet',\n",
    "                               'steps' : [\n",
    "                               {'range': [8, 11], 'color': \"white\"},\n",
    "                               {'range': [11, 13.3], 'color': \"lightgrey\"},\n",
    "                               #{'range': [11.5, 13], 'color': \"grey\"},\n",
    "                               {'range': [13.3, 15], 'color': \"white\"}],\n",
    "                                'threshold' : {'line': {'color': \"red\", 'width': 2}, 'thickness': 0.75, 'value': 13}\n",
    "                              })\n",
    "\n",
    "pie_colors = ['rgb(128,128,200)', 'rgb(105,105,200)', 'rgb(169,169,200)',\n",
    "                'rgb(192,192,200)', 'rgb(211,211,200)', 'rgb(220,220,200)']\n",
    "pie_colors2 = [  'rgb(200,169,169)', 'rgb(200,128,128)','rgb(200,105,105)',\n",
    "                'rgb(200,192,192)', 'rgb(200,211,211)', 'rgb(200,220,220)']\n",
    "\n",
    "df2 = df_prob_operator.query(\"contracts <= 5\")\n",
    "trace2 = go.Pie(labels= df2.contracts, values=df2.Probability,\n",
    "                     textinfo='percent',\n",
    "                     textposition='outside',\n",
    "                     #textinfo='label+percent',\n",
    "                     hole=.35,\n",
    "                     marker_colors=pie_colors,\n",
    "                     title='')#'P(C<=5)')\n",
    "trace2b = go.Pie(labels= df2.contracts, values=df2.Probability,\n",
    "                     textinfo='label',\n",
    "                     textposition='inside',\n",
    "                     hole=.35,\n",
    "                     marker_colors=pie_colors,\n",
    "                     hovertemplate = \"P=%{value:%} to close %{label} contracts per hr <br>(%{percent} for contracts ≤ 5)\",\n",
    "                     title='')#'P(C<=5)')\n",
    "\n",
    "df = df_prob_operator.query(\"contracts > 5\")\n",
    "trace3 = go.Pie(labels= df.contracts, values=df.Probability,\n",
    "                     textposition='outside',\n",
    "                     #textinfo='label+percent',\n",
    "                     hole=.35,\n",
    "                     marker_colors=pie_colors2,\n",
    "                     title='')#'P(C>5)')\n",
    "trace3b = go.Pie(labels= df.contracts, values=df.Probability,\n",
    "                     textinfo='label',\n",
    "                     textposition='inside',\n",
    "                     hole=.35,\n",
    "                     marker_colors=pie_colors2,\n",
    "                     hovertemplate = \"P=%{value:%} to close %{label} contracts per hr <br>(%{percent} for contracts > 5)\",\n",
    "                     title='')#'P(C>5)')\n",
    "\n",
    "\n",
    "\n",
    "fig = make_subplots(rows=2, cols=2,\n",
    "                    specs=[[{\"type\": \"xy\"}, {\"type\": \"indicator\"}],\n",
    "                           #[{\"type\": \"xy\"}, {\"type\": \"indicator\"}],\n",
    "                           #[{\"type\": \"domain\"}, {\"type\": \"scene\"}]],\n",
    "                           [{\"type\": \"domain\"}, {\"type\": \"domain\"}]],  \n",
    "                    subplot_titles=(['Average calling minutes per contract',\n",
    "                                     'Probability of contracts > 10',\n",
    "                                     'Probabilities between contracts ≤ 5',\n",
    "                                     'Probabilities between contracts > 5']))\n",
    "\n",
    "fig.append_trace(trace1, 1, 1)\n",
    "fig.append_trace(trace4, 1, 2)\n",
    "fig.append_trace(trace2, 2, 1)\n",
    "fig.append_trace(trace2b, 2, 1)\n",
    "fig.append_trace(trace3, 2, 2)\n",
    "fig.append_trace(trace3b, 2, 2)\n",
    "\n",
    "\n",
    "fig.update_layout(title='Phone Salesperson Operator 1hr Time Analysis',     \n",
    "                  font=dict(#family=\"Courier New, monospace\",\n",
    "                            size=18,\n",
    "                            color=\"#7f7f7f\"))\n",
    "\n",
    "proba = [x*100 for x in df_prob_operator.Probability]\n",
    "fig.add_trace(go.Scatter(name='Prabability Distribution',\n",
    "                         showlegend=False,\n",
    "                         mode=\"lines+markers+text\",\n",
    "                         text=[\"\",\"Prabability Distribution\"],\n",
    "                         textfont=dict(size=12, color='orange'),\n",
    "                         textposition= 'top right',\n",
    "                         line=dict(color='orange', width=2),\n",
    "                         x=df_prob_operator.contracts, y=proba), row=1, col=1)\n",
    "fig.add_trace(go.Scatter(#name='Prabability Distribution',\n",
    "                         showlegend=False,\n",
    "                         mode=\"lines+markers+text\",\n",
    "                         text=[\"Expected phone calls time per hour (18'29\\\")\"],\n",
    "                         textfont=dict(size=12),\n",
    "                         textposition= 'top right',\n",
    "                         line=dict(color='indigo', width=0.5),\n",
    "                         x=[-1,11], y=[18.42,18.48]), row=1, col=1)\n",
    "\n",
    "\n",
    "\n",
    "fig.update_layout(template=\"seaborn\", legend_title='<b> Contracts closed per hr </b>')\n",
    "\n",
    "#Create HTML\n",
    "import plotly.io as pio\n",
    "pio.write_html(fig, file='salesperson_time.html', auto_open=True)"
   ]
  },
  {
   "cell_type": "markdown",
   "metadata": {},
   "source": [
    "***"
   ]
  },
  {
   "cell_type": "markdown",
   "metadata": {},
   "source": [
    "## 2. Net Gain from Salesperson activity"
   ]
  },
  {
   "cell_type": "markdown",
   "metadata": {},
   "source": [
    "For the same operator and data above, where we have elaborated the a probability distribution of number of contracts closed by phone in a call center on a hourly basis, we can now apply some more theory to assist the managers with more decison makings."
   ]
  },
  {
   "cell_type": "markdown",
   "metadata": {},
   "source": [
    "**The sales manager need to know what are the mean and standard deviation of the salesperson net gain from one hour of work. Knowing that the salesperson total costs to the company is €15 per hour and the company selling gain is €10 per contract.**"
   ]
  },
  {
   "cell_type": "markdown",
   "metadata": {},
   "source": [
    "In other words, the manager wants to know if the operator selling results are worth or not to the company. To solve this problem we can use the data we have already elaborated in the previous problem. "
   ]
  },
  {
   "cell_type": "code",
   "execution_count": 67,
   "metadata": {},
   "outputs": [
    {
     "name": "stdout",
     "output_type": "stream",
     "text": [
      "    contracts  Probability\n",
      "0           0     0.152632\n",
      "1           1     0.378947\n",
      "2           2     0.126316\n",
      "3           3     0.073684\n",
      "4           4     0.047368\n",
      "5           5     0.047368\n",
      "6           6     0.031579\n",
      "7           7     0.042105\n",
      "8           8     0.063158\n",
      "9           9     0.021053\n",
      "10         10     0.015789\n"
     ]
    }
   ],
   "source": [
    "import pandas as pd\n",
    "import numpy as np\n",
    "import math\n",
    "\n",
    "prob_dist = pd.read_csv('prob_operator_distribution.csv', \n",
    "                        usecols=lambda col: \n",
    "                        col not in [\"AverageTimeMinutes\"])\n",
    "print(prob_dist)"
   ]
  },
  {
   "cell_type": "markdown",
   "metadata": {},
   "source": [
    "Before we go on we need to calculate the expected contracts per hour and standard deviation of our random variable X(contracts):\n",
    "\n",
    "$ c = $ number of contracts\n",
    "\n",
    "$ μ_X = E(X) $ $=\\sum_iE(c_i)=c*P(c)$\n",
    "\n",
    "$ Var(X) = \\sum_i(X_i-μ_X)^2P(X_i)\\$\n",
    "\n",
    "$ σ_X = \\sqrt{Var(X)}$"
   ]
  },
  {
   "cell_type": "code",
   "execution_count": 68,
   "metadata": {},
   "outputs": [
    {
     "name": "stdout",
     "output_type": "stream",
     "text": [
      "    contracts  Probability        Ec\n",
      "0           0     0.152632  0.000000\n",
      "1           1     0.378947  0.378947\n",
      "2           2     0.126316  0.252632\n",
      "3           3     0.073684  0.221053\n",
      "4           4     0.047368  0.189474\n",
      "5           5     0.047368  0.236842\n",
      "6           6     0.031579  0.189474\n",
      "7           7     0.042105  0.294737\n",
      "8           8     0.063158  0.505263\n",
      "9           9     0.021053  0.189474\n",
      "10         10     0.015789  0.157895\n",
      "\n",
      "The Expected #contracts for this operator is: approx 2.62 every hour\n",
      "\n",
      "The Standard Deviation for contracts is: approx 2.68\n"
     ]
    }
   ],
   "source": [
    "prob_dist['Ec']=[x*i for x,i in zip(prob_dist.contracts, prob_dist.Probability)]\n",
    "mu_X = sum(prob_dist.Ec)\n",
    "st_devX = math.sqrt(sum([((X-mu_X)**2)*P for X,P in zip(prob_dist.contracts, prob_dist.Probability)]))\n",
    "#print resuts and table with EVs\n",
    "print(prob_dist)\n",
    "print('\\nThe Expected #contracts for this operator is: approx',\n",
    "      round(mu_X,2),\n",
    "      'every hour')\n",
    "print('\\nThe Standard Deviation for contracts is: approx',round(st_devX,2))"
   ]
  },
  {
   "cell_type": "markdown",
   "metadata": {},
   "source": [
    "We have the number of expected contracts(for random variable X) and the probability to sell contracts in one hour of work. Now we now need to create a new random variable N:\n",
    "\n",
    "$ N = $ net gain\n",
    "\n",
    "And we can define ***N*** by our ***X***:\n",
    "\n",
    "$ S_g = $ selling gain\n",
    "\n",
    "$ C_h = $ total costs per hour\n",
    "\n",
    "$ N = S_gX-C_h$\n",
    "\n",
    "The net gain is the selleing gain times the number of contracts minus the costs.\n"
   ]
  },
  {
   "cell_type": "markdown",
   "metadata": {},
   "source": [
    "We now need to make the probability distribution for ***N*** changing in the previus table contracts(X) with netGain(N) by applying the above formula:"
   ]
  },
  {
   "cell_type": "code",
   "execution_count": 69,
   "metadata": {},
   "outputs": [
    {
     "name": "stdout",
     "output_type": "stream",
     "text": [
      "    Probability  netGain\n",
      "0      0.152632      -15\n",
      "1      0.378947       -5\n",
      "2      0.126316        5\n",
      "3      0.073684       15\n",
      "4      0.047368       25\n",
      "5      0.047368       35\n",
      "6      0.031579       45\n",
      "7      0.042105       55\n",
      "8      0.063158       65\n",
      "9      0.021053       75\n",
      "10     0.015789       85\n"
     ]
    }
   ],
   "source": [
    "prob_dist['netGain'] = [(10*row)-15 for row in prob_dist.contracts]\n",
    "N_prob_dist = prob_dist[['Probability','netGain']]\n",
    "print(N_prob_dist)"
   ]
  },
  {
   "cell_type": "markdown",
   "metadata": {},
   "source": [
    "It is clear that we have -15€ of net gain with a probability of 15.3%, as the extreme lower case and, a probability of 1.6% to a net gain of 85€ as the extreme upper case. The most probable case (the one of making 1 contract per hour) gives us a net gain of -5€, so what is the mean net gain that we can expect from this operator every hour?"
   ]
  },
  {
   "cell_type": "markdown",
   "metadata": {},
   "source": [
    "We know that if we scale a random variable ($S_gX=10X$) the corresponding mean will be scaled by the same ammount, and if we shift a random variable ($S_gX - C_h=10X-15$ the shift here is from the minus costs) the corresponding mean is going to be shifted by the same ammount:\n",
    "\n",
    "$ S_g = $ selling gain per contract $=10$\n",
    "\n",
    "$ C_h = $ total costs per hour $=15$\n",
    "\n",
    "$μ_N = 10μ_x - 15$"
   ]
  },
  {
   "cell_type": "code",
   "execution_count": 70,
   "metadata": {},
   "outputs": [
    {
     "name": "stdout",
     "output_type": "stream",
     "text": [
      "So the mean of the net gain is: approx 11.16 €\n"
     ]
    }
   ],
   "source": [
    "muN = 10*mu_X-15\n",
    "print('So the mean of the net gain is: approx', round(muN,2),'€')"
   ]
  },
  {
   "cell_type": "markdown",
   "metadata": {},
   "source": [
    "And for the standard deviation, the scaling will affect the standard deviation as well but the shift does not affect how much we disperse from the mean:\n",
    "\n",
    "$ σ_N = 10σ_X$"
   ]
  },
  {
   "cell_type": "code",
   "execution_count": 71,
   "metadata": {},
   "outputs": [
    {
     "name": "stdout",
     "output_type": "stream",
     "text": [
      "So the standard deviation of the net gain is: approx 26.78 €\n"
     ]
    }
   ],
   "source": [
    "stdevN = 10*st_devX\n",
    "print('So the standard deviation of the net gain is: approx', round(stdevN,2),'€')"
   ]
  },
  {
   "cell_type": "markdown",
   "metadata": {},
   "source": [
    "We can proof the results by applying the calculations to the table with the net gain we have above:"
   ]
  },
  {
   "cell_type": "code",
   "execution_count": 76,
   "metadata": {},
   "outputs": [
    {
     "name": "stdout",
     "output_type": "stream",
     "text": [
      "\n",
      "The Expected net gain for this operator is: approx 11.16 € every hour\n",
      "\n",
      "The Standard Deviation of the net gain is: approx 26.78 € every hour\n"
     ]
    }
   ],
   "source": [
    "mu_N = sum([x*i for x,i in zip(N_prob_dist.netGain, N_prob_dist.Probability)])\n",
    "st_devN = math.sqrt(sum([((X-mu_N)**2)*P for X,P in zip(N_prob_dist.netGain, N_prob_dist.Probability)]))\n",
    "#print resuts and table with EVs\n",
    "print('\\nThe Expected net gain for this operator is: approx',\n",
    "      round(mu_N,2),\n",
    "      '€ every hour')\n",
    "print('\\nThe Standard Deviation of the net gain is: approx',round(st_devN,2),'€ every hour')"
   ]
  },
  {
   "cell_type": "markdown",
   "metadata": {},
   "source": [
    "**Suppose now that the company tells us the costs are raised by +5€ every hour, what is the mean and standard deviation of the new net gain?**"
   ]
  },
  {
   "cell_type": "markdown",
   "metadata": {},
   "source": [
    "The standard deviation will stay the same as we said because it doesn't take shifts affects, and the mean will be reduced by the shift:\n",
    "\n",
    "The new mean of the net gain will be 11.16 - 5 = 6.16€ per hour and the standard deviation will remain at 26.78€ per hour."
   ]
  },
  {
   "cell_type": "markdown",
   "metadata": {},
   "source": [
    "**In conclusion:**\n",
    "\n",
    "We can expect that the mean of net gain from this operator is +11.16€ and even if the costs per hour increases by 5€ the standard deviation of the net gain will be 26.78€ with a mean of +6.16€."
   ]
  },
  {
   "cell_type": "markdown",
   "metadata": {},
   "source": [
    "***"
   ]
  },
  {
   "cell_type": "markdown",
   "metadata": {},
   "source": [
    "## 2. Fuel Retailer Company Sales Probability"
   ]
  },
  {
   "cell_type": "markdown",
   "metadata": {},
   "source": [
    "A fuel retailer company has 10 gas stations in a district. They have collected past data about diesel liters per hour sold for each station. "
   ]
  },
  {
   "cell_type": "markdown",
   "metadata": {},
   "source": [
    "**Based on the data available, the company wants to know the probability to overtake the goal of 1,700Liters per hour of diesel sold on average by the company in that district.**"
   ]
  },
  {
   "cell_type": "markdown",
   "metadata": {},
   "source": [
    "The first thing to do is to read from the excel file we have and start viewing the data in python:"
   ]
  },
  {
   "cell_type": "code",
   "execution_count": 1,
   "metadata": {},
   "outputs": [],
   "source": [
    "import pandas as pd\n",
    "import numpy as np\n",
    "from scipy import stats"
   ]
  },
  {
   "cell_type": "code",
   "execution_count": 2,
   "metadata": {
    "scrolled": true
   },
   "outputs": [
    {
     "data": {
      "text/plain": [
       "OrderedDict([('st01',\n",
       "                       liters    gallons          kg         lbs        m3\n",
       "              0    107.587799  28.421684   89.728225  197.331753  0.107588\n",
       "              1    109.690862  28.977254   91.482179  201.189077  0.109691\n",
       "              2     99.824078  26.370726   83.253281  183.091952  0.099824\n",
       "              3     81.110622  21.427155   67.646259  148.768739  0.081111\n",
       "              4    114.005336  30.117018   95.080450  209.102453  0.114005\n",
       "              ..          ...        ...         ...         ...       ...\n",
       "              392  125.780889  33.227789  104.901261  230.700539  0.125781\n",
       "              393   67.994613  17.962273   56.707507  124.712061  0.067995\n",
       "              394  104.521627  27.611687   87.171037  191.707945  0.104522\n",
       "              395   95.639692  25.265329   79.763503  175.417177  0.095640\n",
       "              396   98.232058  25.950159   81.925537  180.171956  0.098232\n",
       "              \n",
       "              [397 rows x 5 columns]),\n",
       "             ('st02',\n",
       "                       liters    gallons          kg         lbs        m3\n",
       "              0    189.733979  50.122405  158.238139  347.999856  0.189734\n",
       "              1    101.940104  26.929721   85.018047  186.973055  0.101940\n",
       "              2    186.206536  49.190553  155.296251  341.530010  0.186206\n",
       "              3    160.779625  42.473475  134.090207  294.893337  0.160780\n",
       "              4    196.569052  51.928040  163.938589  360.536379  0.196569\n",
       "              ..          ...        ...         ...         ...       ...\n",
       "              392   46.120158  12.183654   38.464212   84.591113  0.046120\n",
       "              393  178.547607  47.167278  148.908704  327.482415  0.178547\n",
       "              394  197.601635  52.200819  164.799763  362.430287  0.197602\n",
       "              395   69.837765  18.449182   58.244696  128.092671  0.069838\n",
       "              396  251.022497  66.313115  209.352763  460.411958  0.251022\n",
       "              \n",
       "              [397 rows x 5 columns]),\n",
       "             ('st03',\n",
       "                       liters     gallons          kg         lbs        m3\n",
       "              0    444.450847  117.411469  370.672007  815.187831  0.444451\n",
       "              1    442.244722  116.828673  368.832098  811.141474  0.442244\n",
       "              2    461.978290  122.041729  385.289894  847.335724  0.461978\n",
       "              3    345.405202   91.246383  288.067938  633.523637  0.345405\n",
       "              4     14.005336    3.699818   11.680450   25.687833  0.014005\n",
       "              ..          ...         ...         ...         ...       ...\n",
       "              392  250.064668   66.060083  208.553933  458.655160  0.250065\n",
       "              393  335.637219   88.665955  279.921441  615.607729  0.335637\n",
       "              394  320.583191   84.689103  267.366382  587.996441  0.320583\n",
       "              395  306.347062   80.928316  255.493449  561.885298  0.306347\n",
       "              396  361.162329   95.408975  301.209382  662.424512  0.361162\n",
       "              \n",
       "              [397 rows x 5 columns]),\n",
       "             ('st04',\n",
       "                       liters     gallons          kg          lbs        m3\n",
       "              0    288.587799   76.236816  240.682225   529.312214  0.288588\n",
       "              1    520.971877  137.626183  434.490545   955.538586  0.520972\n",
       "              2    224.824078   59.392226  187.503281   412.360227  0.224824\n",
       "              3    492.681757  130.152725  410.896585   903.650370  0.492681\n",
       "              4      8.994664    2.376138    7.501550    16.497529  0.008995\n",
       "              ..          ...         ...         ...          ...       ...\n",
       "              392  177.780889   46.964733  148.269261   326.076141  0.177781\n",
       "              393  461.623752  121.948070  384.994209   846.685449  0.461623\n",
       "              394  565.887259  149.491569  471.949974  1037.919964  0.565887\n",
       "              395  465.946292  123.089964  388.599207   854.613618  0.465946\n",
       "              396   97.232058   25.685987   81.091537   178.337810  0.097232\n",
       "              \n",
       "              [397 rows x 5 columns]),\n",
       "             ('st05',\n",
       "                       liters    gallons          kg         lbs        m3\n",
       "              0    293.587799  77.557676  244.852225  538.482945  0.293588\n",
       "              1    141.690862  37.430758  118.170179  259.881755  0.141691\n",
       "              2    315.672770  83.391907  263.271091  578.990011  0.315673\n",
       "              3     22.245859   5.876733   18.553046   40.802158  0.022246\n",
       "              4    109.986056  29.055236   91.728371  201.730507  0.109986\n",
       "              ..          ...        ...         ...         ...       ...\n",
       "              392  194.780889  51.455657  162.447261  357.256626  0.194781\n",
       "              393   25.994613   6.867049   21.679507   47.677921  0.025995\n",
       "              394  373.067869  98.554085  311.138603  684.261013  0.373068\n",
       "              395   16.696001   4.410616   13.924465   30.622907  0.016696\n",
       "              396   88.488732  23.376245   73.799602  162.301270  0.088489\n",
       "              \n",
       "              [397 rows x 5 columns]),\n",
       "             ('st06',\n",
       "                       liters     gallons          kg         lbs        m3\n",
       "              0    428.504651  113.198931  357.372879  785.940176  0.428504\n",
       "              1    374.205672   98.854661  312.087531  686.347910  0.374205\n",
       "              2    389.250078  102.828972  324.634565  713.941549  0.389250\n",
       "              3    349.012259   92.199266  291.076224  640.139507  0.349012\n",
       "              4    335.306940   88.578705  279.645988  615.001948  0.335307\n",
       "              ..          ...         ...         ...         ...       ...\n",
       "              392  166.780889   44.058841  139.095261  305.900533  0.166781\n",
       "              393  341.973589   90.339847  285.205974  627.229558  0.341973\n",
       "              394  413.815927  109.318581  345.122483  758.998909  0.413816\n",
       "              395  347.521949   91.805568  289.833306  637.406061  0.347522\n",
       "              396  365.386071   96.524769  304.731983  670.171472  0.365386\n",
       "              \n",
       "              [397 rows x 5 columns]),\n",
       "             ('st07',\n",
       "                       liters     gallons          kg          lbs        m3\n",
       "              0    576.136952  152.199251  480.498218  1056.719399  0.576137\n",
       "              1    477.446140  126.127902  398.190081   875.706022  0.477446\n",
       "              2    249.845788   66.002261  208.371387   458.253701  0.249846\n",
       "              3    217.705420   57.511676  181.566321   399.303569  0.217705\n",
       "              4    172.610439   45.598845  143.957106   316.592780  0.172610\n",
       "              ..          ...         ...         ...          ...       ...\n",
       "              392  101.780889   26.887661   84.885261   186.681030  0.101781\n",
       "              393  214.994613   56.795557  179.305507   394.331552  0.214994\n",
       "              394  536.938436  141.844100  447.806655   984.823589  0.536938\n",
       "              395  234.292631   61.893553  195.400054   429.726937  0.234292\n",
       "              396  593.069729  156.672416  494.620154  1087.776588  0.593069\n",
       "              \n",
       "              [397 rows x 5 columns]),\n",
       "             ('st08',\n",
       "                       liters    gallons          kg         lbs        m3\n",
       "              0    234.171318  61.861505  195.298879  429.504432  0.234171\n",
       "              1    180.539006  47.693350  150.569531  331.134930  0.180539\n",
       "              2    206.250078  54.485496  172.012565  378.292795  0.206250\n",
       "              3    138.605178  36.615607  115.596718  254.222159  0.138605\n",
       "              4     48.994664  12.943018   40.861550   89.863377  0.048995\n",
       "              ..          ...        ...         ...         ...       ...\n",
       "              392  191.902348  50.695227  160.046558  351.976962  0.191902\n",
       "              393   33.005387   8.719099   27.526493   60.536704  0.033005\n",
       "              394  240.521627  63.539079  200.595037  441.151827  0.240521\n",
       "              395  164.188616  43.374035  136.933306  301.145925  0.164189\n",
       "              396  166.719404  44.042599  139.043983  305.787762  0.166719\n",
       "              \n",
       "              [397 rows x 5 columns]),\n",
       "             ('st09',\n",
       "                       liters    gallons          kg         lbs        m3\n",
       "              0    249.587799  65.934108  208.156225  457.780513  0.249588\n",
       "              1    194.671907  51.426867  162.356370  357.056737  0.194672\n",
       "              2    132.716312  35.059934  110.685404  243.421119  0.132716\n",
       "              3    128.811827  34.028478  107.429064  236.259722  0.128812\n",
       "              4    121.110065  31.993888  101.005794  222.133564  0.121110\n",
       "              ..          ...        ...         ...         ...       ...\n",
       "              392  129.035249  34.087500  107.615398  236.669511  0.129035\n",
       "              393  145.106491  38.333072  121.018813  266.146518  0.145106\n",
       "              394  155.282162  41.021199  129.505323  284.810186  0.155282\n",
       "              395  146.988183  38.830162  122.588145  269.597818  0.146988\n",
       "              396  163.185639  43.109077  136.096823  299.306319  0.163186\n",
       "              \n",
       "              [397 rows x 5 columns]),\n",
       "             ('st10',\n",
       "                       liters    gallons          kg         lbs        m3\n",
       "              0     66.587799  17.590632   55.534225  122.131759  0.066588\n",
       "              1    169.630966  44.811752  141.472226  311.127992  0.169631\n",
       "              2    173.030614  45.709843  144.307532  317.363442  0.173030\n",
       "              3     86.890247  22.953970   72.466466  159.369415  0.086890\n",
       "              4     57.005336  15.059214   47.542450  104.556119  0.057005\n",
       "              ..          ...        ...         ...         ...       ...\n",
       "              392   58.901047  15.560007   49.123473  108.033131  0.058901\n",
       "              393   54.994613  14.528037   45.865507  100.868161  0.054995\n",
       "              394  124.123262  32.789890  103.518800  227.660209  0.124123\n",
       "              395   82.477457  21.788235   68.786199  151.275714  0.082477\n",
       "              396   94.232058  24.893471   78.589537  172.835371  0.094232\n",
       "              \n",
       "              [397 rows x 5 columns])])"
      ]
     },
     "execution_count": 2,
     "metadata": {},
     "output_type": "execute_result"
    }
   ],
   "source": [
    "stations = ['st01','st02','st03','st04','st05'\n",
    "           ,'st06','st07','st08','st09','st10']\n",
    "dat = pd.read_excel('fuel_stations_diesel.xlsx',\n",
    "sheet_name=stations,\n",
    "header=0,\n",
    "index_col=False,\n",
    "keep_default_na=True\n",
    ")\n",
    "#display first rows of data\n",
    "dat"
   ]
  },
  {
   "cell_type": "markdown",
   "metadata": {},
   "source": [
    "We can view all the data from the different stations, we have 397 samples of litres sold per hour. Now let's make a dataframe of the litres sold for each station."
   ]
  },
  {
   "cell_type": "code",
   "execution_count": 3,
   "metadata": {},
   "outputs": [],
   "source": [
    "df_diesel = pd.DataFrame(dat['st01']['liters'])\n",
    "df_diesel.columns = ['station01']\n",
    "df_diesel['station02'] = dat['st02']['liters']\n",
    "df_diesel['station03'] = dat['st03']['liters']\n",
    "df_diesel['station04'] = dat['st04']['liters']\n",
    "df_diesel['station05'] = dat['st05']['liters']\n",
    "df_diesel['station06'] = dat['st06']['liters']\n",
    "df_diesel['station07'] = dat['st07']['liters']\n",
    "df_diesel['station08'] = dat['st08']['liters']\n",
    "df_diesel['station09'] = dat['st09']['liters']\n",
    "df_diesel['station10'] = dat['st10']['liters']"
   ]
  },
  {
   "cell_type": "code",
   "execution_count": 4,
   "metadata": {},
   "outputs": [
    {
     "data": {
      "text/html": [
       "<div>\n",
       "<style scoped>\n",
       "    .dataframe tbody tr th:only-of-type {\n",
       "        vertical-align: middle;\n",
       "    }\n",
       "\n",
       "    .dataframe tbody tr th {\n",
       "        vertical-align: top;\n",
       "    }\n",
       "\n",
       "    .dataframe thead th {\n",
       "        text-align: right;\n",
       "    }\n",
       "</style>\n",
       "<table border=\"1\" class=\"dataframe\">\n",
       "  <thead>\n",
       "    <tr style=\"text-align: right;\">\n",
       "      <th></th>\n",
       "      <th>station01</th>\n",
       "      <th>station02</th>\n",
       "      <th>station03</th>\n",
       "      <th>station04</th>\n",
       "      <th>station05</th>\n",
       "      <th>station06</th>\n",
       "      <th>station07</th>\n",
       "      <th>station08</th>\n",
       "      <th>station09</th>\n",
       "      <th>station10</th>\n",
       "    </tr>\n",
       "  </thead>\n",
       "  <tbody>\n",
       "    <tr>\n",
       "      <td>0</td>\n",
       "      <td>107.587799</td>\n",
       "      <td>189.733979</td>\n",
       "      <td>444.450847</td>\n",
       "      <td>288.587799</td>\n",
       "      <td>293.587799</td>\n",
       "      <td>428.504651</td>\n",
       "      <td>576.136952</td>\n",
       "      <td>234.171318</td>\n",
       "      <td>249.587799</td>\n",
       "      <td>66.587799</td>\n",
       "    </tr>\n",
       "    <tr>\n",
       "      <td>1</td>\n",
       "      <td>109.690862</td>\n",
       "      <td>101.940104</td>\n",
       "      <td>442.244722</td>\n",
       "      <td>520.971877</td>\n",
       "      <td>141.690862</td>\n",
       "      <td>374.205672</td>\n",
       "      <td>477.446140</td>\n",
       "      <td>180.539006</td>\n",
       "      <td>194.671907</td>\n",
       "      <td>169.630966</td>\n",
       "    </tr>\n",
       "    <tr>\n",
       "      <td>2</td>\n",
       "      <td>99.824078</td>\n",
       "      <td>186.206536</td>\n",
       "      <td>461.978290</td>\n",
       "      <td>224.824078</td>\n",
       "      <td>315.672770</td>\n",
       "      <td>389.250078</td>\n",
       "      <td>249.845788</td>\n",
       "      <td>206.250078</td>\n",
       "      <td>132.716312</td>\n",
       "      <td>173.030614</td>\n",
       "    </tr>\n",
       "    <tr>\n",
       "      <td>3</td>\n",
       "      <td>81.110622</td>\n",
       "      <td>160.779625</td>\n",
       "      <td>345.405202</td>\n",
       "      <td>492.681757</td>\n",
       "      <td>22.245859</td>\n",
       "      <td>349.012259</td>\n",
       "      <td>217.705420</td>\n",
       "      <td>138.605178</td>\n",
       "      <td>128.811827</td>\n",
       "      <td>86.890247</td>\n",
       "    </tr>\n",
       "    <tr>\n",
       "      <td>4</td>\n",
       "      <td>114.005336</td>\n",
       "      <td>196.569052</td>\n",
       "      <td>14.005336</td>\n",
       "      <td>8.994664</td>\n",
       "      <td>109.986056</td>\n",
       "      <td>335.306940</td>\n",
       "      <td>172.610439</td>\n",
       "      <td>48.994664</td>\n",
       "      <td>121.110065</td>\n",
       "      <td>57.005336</td>\n",
       "    </tr>\n",
       "    <tr>\n",
       "      <td>...</td>\n",
       "      <td>...</td>\n",
       "      <td>...</td>\n",
       "      <td>...</td>\n",
       "      <td>...</td>\n",
       "      <td>...</td>\n",
       "      <td>...</td>\n",
       "      <td>...</td>\n",
       "      <td>...</td>\n",
       "      <td>...</td>\n",
       "      <td>...</td>\n",
       "    </tr>\n",
       "    <tr>\n",
       "      <td>392</td>\n",
       "      <td>125.780889</td>\n",
       "      <td>46.120158</td>\n",
       "      <td>250.064668</td>\n",
       "      <td>177.780889</td>\n",
       "      <td>194.780889</td>\n",
       "      <td>166.780889</td>\n",
       "      <td>101.780889</td>\n",
       "      <td>191.902348</td>\n",
       "      <td>129.035249</td>\n",
       "      <td>58.901047</td>\n",
       "    </tr>\n",
       "    <tr>\n",
       "      <td>393</td>\n",
       "      <td>67.994613</td>\n",
       "      <td>178.547607</td>\n",
       "      <td>335.637219</td>\n",
       "      <td>461.623752</td>\n",
       "      <td>25.994613</td>\n",
       "      <td>341.973589</td>\n",
       "      <td>214.994613</td>\n",
       "      <td>33.005387</td>\n",
       "      <td>145.106491</td>\n",
       "      <td>54.994613</td>\n",
       "    </tr>\n",
       "    <tr>\n",
       "      <td>394</td>\n",
       "      <td>104.521627</td>\n",
       "      <td>197.601635</td>\n",
       "      <td>320.583191</td>\n",
       "      <td>565.887259</td>\n",
       "      <td>373.067869</td>\n",
       "      <td>413.815927</td>\n",
       "      <td>536.938436</td>\n",
       "      <td>240.521627</td>\n",
       "      <td>155.282162</td>\n",
       "      <td>124.123262</td>\n",
       "    </tr>\n",
       "    <tr>\n",
       "      <td>395</td>\n",
       "      <td>95.639692</td>\n",
       "      <td>69.837765</td>\n",
       "      <td>306.347062</td>\n",
       "      <td>465.946292</td>\n",
       "      <td>16.696001</td>\n",
       "      <td>347.521949</td>\n",
       "      <td>234.292631</td>\n",
       "      <td>164.188616</td>\n",
       "      <td>146.988183</td>\n",
       "      <td>82.477457</td>\n",
       "    </tr>\n",
       "    <tr>\n",
       "      <td>396</td>\n",
       "      <td>98.232058</td>\n",
       "      <td>251.022497</td>\n",
       "      <td>361.162329</td>\n",
       "      <td>97.232058</td>\n",
       "      <td>88.488732</td>\n",
       "      <td>365.386071</td>\n",
       "      <td>593.069729</td>\n",
       "      <td>166.719404</td>\n",
       "      <td>163.185639</td>\n",
       "      <td>94.232058</td>\n",
       "    </tr>\n",
       "  </tbody>\n",
       "</table>\n",
       "<p>397 rows × 10 columns</p>\n",
       "</div>"
      ],
      "text/plain": [
       "      station01   station02   station03   station04   station05   station06  \\\n",
       "0    107.587799  189.733979  444.450847  288.587799  293.587799  428.504651   \n",
       "1    109.690862  101.940104  442.244722  520.971877  141.690862  374.205672   \n",
       "2     99.824078  186.206536  461.978290  224.824078  315.672770  389.250078   \n",
       "3     81.110622  160.779625  345.405202  492.681757   22.245859  349.012259   \n",
       "4    114.005336  196.569052   14.005336    8.994664  109.986056  335.306940   \n",
       "..          ...         ...         ...         ...         ...         ...   \n",
       "392  125.780889   46.120158  250.064668  177.780889  194.780889  166.780889   \n",
       "393   67.994613  178.547607  335.637219  461.623752   25.994613  341.973589   \n",
       "394  104.521627  197.601635  320.583191  565.887259  373.067869  413.815927   \n",
       "395   95.639692   69.837765  306.347062  465.946292   16.696001  347.521949   \n",
       "396   98.232058  251.022497  361.162329   97.232058   88.488732  365.386071   \n",
       "\n",
       "      station07   station08   station09   station10  \n",
       "0    576.136952  234.171318  249.587799   66.587799  \n",
       "1    477.446140  180.539006  194.671907  169.630966  \n",
       "2    249.845788  206.250078  132.716312  173.030614  \n",
       "3    217.705420  138.605178  128.811827   86.890247  \n",
       "4    172.610439   48.994664  121.110065   57.005336  \n",
       "..          ...         ...         ...         ...  \n",
       "392  101.780889  191.902348  129.035249   58.901047  \n",
       "393  214.994613   33.005387  145.106491   54.994613  \n",
       "394  536.938436  240.521627  155.282162  124.123262  \n",
       "395  234.292631  164.188616  146.988183   82.477457  \n",
       "396  593.069729  166.719404  163.185639   94.232058  \n",
       "\n",
       "[397 rows x 10 columns]"
      ]
     },
     "execution_count": 4,
     "metadata": {},
     "output_type": "execute_result"
    }
   ],
   "source": [
    "df_diesel"
   ]
  },
  {
   "cell_type": "code",
   "execution_count": 40,
   "metadata": {},
   "outputs": [
    {
     "data": {
      "text/plain": [
       "<seaborn.axisgrid.FacetGrid at 0x1934647108>"
      ]
     },
     "execution_count": 40,
     "metadata": {},
     "output_type": "execute_result"
    },
    {
     "data": {
      "image/png": "[encoded data removed]",
      "text/plain": [
       "<Figure size 900x360 with 10 Axes>"
      ]
     },
     "metadata": {
      "needs_background": "light"
     },
     "output_type": "display_data"
    }
   ],
   "source": [
    "# Plot Odds Distributions \n",
    "g = sns.FacetGrid(df_diesel.loc[:, 'station01':'station10'].melt(var_name='columns'), \n",
    "                  col=\"columns\", \n",
    "                  col_wrap=5, \n",
    "                  height=2.5)\n",
    "g.map(sns.distplot, 'value')"
   ]
  },
  {
   "cell_type": "markdown",
   "metadata": {},
   "source": [
    "Now we have one data set with all the stations and liters of diesel sold. Let's have a look to the summary stats:"
   ]
  },
  {
   "cell_type": "code",
   "execution_count": 5,
   "metadata": {},
   "outputs": [],
   "source": [
    "import matplotlib.pyplot as plt"
   ]
  },
  {
   "cell_type": "code",
   "execution_count": 6,
   "metadata": {},
   "outputs": [
    {
     "data": {
      "image/png": "[encoded data removed]",
      "text/plain": [
       "<Figure size 864x576 with 2 Axes>"
      ]
     },
     "metadata": {
      "needs_background": "light"
     },
     "output_type": "display_data"
    }
   ],
   "source": [
    "lis_tots = []\n",
    "_ = [lis_tots.append(sum(df_diesel.iloc[i,:])) for i in range(0,len(df_diesel))]\n",
    "\n",
    "#resizing plot and initialize subplots\n",
    "plt.rcParams['figure.figsize'] = [12, 8]\n",
    "fig, axes = plt.subplots(nrows=2, ncols=1, sharex=True)\n",
    "#plotting boxplot\n",
    "axes[0].boxplot(lis_tots, 0, 'gD', vert=False)\n",
    "axes[0].axis('off')\n",
    "#plotting hist\n",
    "axes[1].hist(lis_tots, 80, density=True, alpha=.5, edgecolor='black')\n",
    "axes[1].set_yticklabels([])\n",
    "#displaying plot\n",
    "plt.subplots_adjust(hspace=0)\n",
    "plt.show()"
   ]
  },
  {
   "cell_type": "markdown",
   "metadata": {},
   "source": [
    "https://en.wikipedia.org/wiki/Robust_measures_of_scale"
   ]
  },
  {
   "cell_type": "markdown",
   "metadata": {},
   "source": [
    "https://en.wikipedia.org/wiki/Median_absolute_deviation"
   ]
  },
  {
   "cell_type": "code",
   "execution_count": 7,
   "metadata": {},
   "outputs": [
    {
     "data": {
      "text/plain": [
       "145.21839424648826"
      ]
     },
     "execution_count": 7,
     "metadata": {},
     "output_type": "execute_result"
    }
   ],
   "source": [
    "stats.median_absolute_deviation(df_diesel, axis=None)"
   ]
  },
  {
   "cell_type": "code",
   "execution_count": 8,
   "metadata": {},
   "outputs": [
    {
     "name": "stdout",
     "output_type": "stream",
     "text": [
      "1312.4974490024606\n"
     ]
    }
   ],
   "source": [
    "lis_mads = []\n",
    "_ = [lis_mads.append(stats.median_absolute_deviation(df_diesel.iloc[i])) for i in range(0,len(df_diesel.columns))]\n",
    "print(sum(lis_mads))\n",
    "mad_W = sum(lis_mads)"
   ]
  },
  {
   "cell_type": "code",
   "execution_count": 360,
   "metadata": {},
   "outputs": [
    {
     "data": {
      "text/plain": [
       "[82.2843,\n",
       " 30.39329999999999,\n",
       " 88.956,\n",
       " 21.4977,\n",
       " 62.277110575533506,\n",
       " 102.29939999999999,\n",
       " 41.5128,\n",
       " 132.6927,\n",
       " 83.76689999999998,\n",
       " 31.29230742935966]"
      ]
     },
     "execution_count": 360,
     "metadata": {},
     "output_type": "execute_result"
    }
   ],
   "source": [
    "lis_mads"
   ]
  },
  {
   "cell_type": "code",
   "execution_count": 9,
   "metadata": {},
   "outputs": [
    {
     "data": {
      "text/plain": [
       "540.7532399950626"
      ]
     },
     "execution_count": 9,
     "metadata": {},
     "output_type": "execute_result"
    }
   ],
   "source": [
    "stats.median_absolute_deviation(lis_tots)"
   ]
  },
  {
   "cell_type": "code",
   "execution_count": 10,
   "metadata": {},
   "outputs": [
    {
     "data": {
      "text/plain": [
       "547.484231932567"
      ]
     },
     "execution_count": 10,
     "metadata": {},
     "output_type": "execute_result"
    }
   ],
   "source": [
    "np.std(lis_tots)"
   ]
  },
  {
   "cell_type": "code",
   "execution_count": 11,
   "metadata": {},
   "outputs": [
    {
     "data": {
      "text/html": [
       "<div>\n",
       "<style scoped>\n",
       "    .dataframe tbody tr th:only-of-type {\n",
       "        vertical-align: middle;\n",
       "    }\n",
       "\n",
       "    .dataframe tbody tr th {\n",
       "        vertical-align: top;\n",
       "    }\n",
       "\n",
       "    .dataframe thead th {\n",
       "        text-align: right;\n",
       "    }\n",
       "</style>\n",
       "<table border=\"1\" class=\"dataframe\">\n",
       "  <thead>\n",
       "    <tr style=\"text-align: right;\">\n",
       "      <th></th>\n",
       "      <th>station01</th>\n",
       "      <th>station02</th>\n",
       "      <th>station03</th>\n",
       "      <th>station04</th>\n",
       "      <th>station05</th>\n",
       "      <th>station06</th>\n",
       "      <th>station07</th>\n",
       "      <th>station08</th>\n",
       "      <th>station09</th>\n",
       "      <th>station10</th>\n",
       "    </tr>\n",
       "  </thead>\n",
       "  <tbody>\n",
       "    <tr>\n",
       "      <td>count</td>\n",
       "      <td>397.000000</td>\n",
       "      <td>397.000000</td>\n",
       "      <td>397.000000</td>\n",
       "      <td>397.000000</td>\n",
       "      <td>397.000000</td>\n",
       "      <td>397.000000</td>\n",
       "      <td>397.000000</td>\n",
       "      <td>397.000000</td>\n",
       "      <td>397.000000</td>\n",
       "      <td>397.000000</td>\n",
       "    </tr>\n",
       "    <tr>\n",
       "      <td>mean</td>\n",
       "      <td>99.441619</td>\n",
       "      <td>148.426053</td>\n",
       "      <td>306.627405</td>\n",
       "      <td>470.753109</td>\n",
       "      <td>228.681614</td>\n",
       "      <td>343.445536</td>\n",
       "      <td>367.919601</td>\n",
       "      <td>192.364653</td>\n",
       "      <td>163.556388</td>\n",
       "      <td>118.607586</td>\n",
       "    </tr>\n",
       "    <tr>\n",
       "      <td>std</td>\n",
       "      <td>16.234071</td>\n",
       "      <td>73.575344</td>\n",
       "      <td>133.324925</td>\n",
       "      <td>159.449276</td>\n",
       "      <td>170.454876</td>\n",
       "      <td>99.236177</td>\n",
       "      <td>220.357943</td>\n",
       "      <td>54.685664</td>\n",
       "      <td>33.325168</td>\n",
       "      <td>67.522520</td>\n",
       "    </tr>\n",
       "    <tr>\n",
       "      <td>min</td>\n",
       "      <td>47.663648</td>\n",
       "      <td>2.718879</td>\n",
       "      <td>1.061197</td>\n",
       "      <td>4.397033</td>\n",
       "      <td>0.581771</td>\n",
       "      <td>3.939724</td>\n",
       "      <td>0.552702</td>\n",
       "      <td>6.318098</td>\n",
       "      <td>42.259148</td>\n",
       "      <td>1.118243</td>\n",
       "    </tr>\n",
       "    <tr>\n",
       "      <td>25%</td>\n",
       "      <td>88.199448</td>\n",
       "      <td>91.669826</td>\n",
       "      <td>268.007558</td>\n",
       "      <td>475.219027</td>\n",
       "      <td>88.488732</td>\n",
       "      <td>343.303588</td>\n",
       "      <td>205.311173</td>\n",
       "      <td>163.624783</td>\n",
       "      <td>142.537471</td>\n",
       "      <td>66.587799</td>\n",
       "    </tr>\n",
       "    <tr>\n",
       "      <td>50%</td>\n",
       "      <td>100.339560</td>\n",
       "      <td>144.781562</td>\n",
       "      <td>343.590023</td>\n",
       "      <td>515.431611</td>\n",
       "      <td>194.780889</td>\n",
       "      <td>368.342027</td>\n",
       "      <td>335.993300</td>\n",
       "      <td>189.787862</td>\n",
       "      <td>161.050300</td>\n",
       "      <td>113.931699</td>\n",
       "    </tr>\n",
       "    <tr>\n",
       "      <td>75%</td>\n",
       "      <td>109.480054</td>\n",
       "      <td>198.612832</td>\n",
       "      <td>401.763048</td>\n",
       "      <td>569.968384</td>\n",
       "      <td>335.944578</td>\n",
       "      <td>395.864280</td>\n",
       "      <td>518.283133</td>\n",
       "      <td>219.073666</td>\n",
       "      <td>179.883799</td>\n",
       "      <td>168.240354</td>\n",
       "    </tr>\n",
       "    <tr>\n",
       "      <td>max</td>\n",
       "      <td>146.418439</td>\n",
       "      <td>361.245983</td>\n",
       "      <td>462.316142</td>\n",
       "      <td>680.939669</td>\n",
       "      <td>781.277506</td>\n",
       "      <td>474.517534</td>\n",
       "      <td>1039.630026</td>\n",
       "      <td>407.384492</td>\n",
       "      <td>314.097811</td>\n",
       "      <td>308.484536</td>\n",
       "    </tr>\n",
       "  </tbody>\n",
       "</table>\n",
       "</div>"
      ],
      "text/plain": [
       "        station01   station02   station03   station04   station05   station06  \\\n",
       "count  397.000000  397.000000  397.000000  397.000000  397.000000  397.000000   \n",
       "mean    99.441619  148.426053  306.627405  470.753109  228.681614  343.445536   \n",
       "std     16.234071   73.575344  133.324925  159.449276  170.454876   99.236177   \n",
       "min     47.663648    2.718879    1.061197    4.397033    0.581771    3.939724   \n",
       "25%     88.199448   91.669826  268.007558  475.219027   88.488732  343.303588   \n",
       "50%    100.339560  144.781562  343.590023  515.431611  194.780889  368.342027   \n",
       "75%    109.480054  198.612832  401.763048  569.968384  335.944578  395.864280   \n",
       "max    146.418439  361.245983  462.316142  680.939669  781.277506  474.517534   \n",
       "\n",
       "         station07   station08   station09   station10  \n",
       "count   397.000000  397.000000  397.000000  397.000000  \n",
       "mean    367.919601  192.364653  163.556388  118.607586  \n",
       "std     220.357943   54.685664   33.325168   67.522520  \n",
       "min       0.552702    6.318098   42.259148    1.118243  \n",
       "25%     205.311173  163.624783  142.537471   66.587799  \n",
       "50%     335.993300  189.787862  161.050300  113.931699  \n",
       "75%     518.283133  219.073666  179.883799  168.240354  \n",
       "max    1039.630026  407.384492  314.097811  308.484536  "
      ]
     },
     "execution_count": 11,
     "metadata": {},
     "output_type": "execute_result"
    }
   ],
   "source": [
    "df_diesel.describe()"
   ]
  },
  {
   "cell_type": "code",
   "execution_count": null,
   "metadata": {},
   "outputs": [],
   "source": []
  },
  {
   "cell_type": "markdown",
   "metadata": {},
   "source": [
    "We can see that all the standard deviations are bigger than the means, and because the sold liters per hour cannot be negative, this is telling us that all the distributions are skewed to the right near the 0. This is okay because we could consider them later as a \"normal\" distribution due to the fact we have many samples(397), but for now we can just apply some basic rules and say that **the average litre sold per hour for the company is the sum of all the means**."
   ]
  },
  {
   "cell_type": "code",
   "execution_count": 364,
   "metadata": {},
   "outputs": [
    {
     "data": {
      "text/plain": [
       "count    3970.000000\n",
       "mean     1482.684450\n",
       "std       659.029803\n",
       "min       188.126121\n",
       "25%       973.715306\n",
       "50%      1445.431361\n",
       "75%      1964.650617\n",
       "max      3271.988388\n",
       "dtype: float64"
      ]
     },
     "execution_count": 364,
     "metadata": {},
     "output_type": "execute_result"
    }
   ],
   "source": [
    "np.sum(df_diesel.describe(),axis=1)"
   ]
  },
  {
   "cell_type": "markdown",
   "metadata": {},
   "source": [
    "We can't use the sum of standard deviations but for now we can store the total average of liters sold per hour:"
   ]
  },
  {
   "cell_type": "code",
   "execution_count": 12,
   "metadata": {},
   "outputs": [
    {
     "name": "stdout",
     "output_type": "stream",
     "text": [
      "The toal average of liters sold per hour for the company is: approx 2439.824\n"
     ]
    }
   ],
   "source": [
    "total_mean = sum(df_diesel.describe().iloc[1])\n",
    "print('The toal average of liters sold per hour for the company is: approx',round(total_mean,3))"
   ]
  },
  {
   "cell_type": "code",
   "execution_count": 13,
   "metadata": {},
   "outputs": [
    {
     "name": "stdout",
     "output_type": "stream",
     "text": [
      "2468.02883237973\n"
     ]
    }
   ],
   "source": [
    "import statistics\n",
    "medians = []\n",
    "[medians.append(statistics.median(df_diesel.iloc[:,i])) for i in range(0,len(df_diesel.columns))]\n",
    "total_median = sum(medians)\n",
    "print(total_median)"
   ]
  },
  {
   "cell_type": "markdown",
   "metadata": {},
   "source": [
    "To calculate the sum of standard deviations we have to sum the variance of all the stations, but before we do that we have to verify that the liters sold per station are independent to each other. "
   ]
  },
  {
   "cell_type": "markdown",
   "metadata": {},
   "source": [
    "We have to analize the correlation between them, and to do this I'll create an heatmap with help of `seaborn` library. "
   ]
  },
  {
   "cell_type": "code",
   "execution_count": 24,
   "metadata": {},
   "outputs": [
    {
     "data": {
      "image/png": "[encoded data removed]",
      "text/plain": [
       "<Figure size 864x576 with 2 Axes>"
      ]
     },
     "metadata": {
      "needs_background": "light"
     },
     "output_type": "display_data"
    }
   ],
   "source": [
    "import seaborn as sns\n",
    "\n",
    "corr = df_diesel.corr()\n",
    "ax = sns.heatmap(\n",
    "    corr, \n",
    "    vmin=-1, vmax=1, center=0,\n",
    "    cmap=sns.diverging_palette(20, 220, n=200),\n",
    "    square=True\n",
    ")\n",
    "ax.set_xticklabels(\n",
    "    ax.get_xticklabels(),\n",
    "    rotation=45,\n",
    "    horizontalalignment='right'\n",
    ")\n",
    "ax.set_yticklabels(\n",
    "    ax.get_yticklabels(),\n",
    "    rotation=0,\n",
    ");"
   ]
  },
  {
   "cell_type": "markdown",
   "metadata": {},
   "source": [
    "There are some positive and negative correlations between stations (more the blue, more positive the correlation is, and more the negative more red is the color). So it is clear that our stations are not really independent. \n",
    "\n",
    "In this case, to calculate the overall variance we will need to calculate the covariance as well. I'll start by computing a covariance table in python."
   ]
  },
  {
   "cell_type": "code",
   "execution_count": 15,
   "metadata": {},
   "outputs": [
    {
     "data": {
      "text/html": [
       "<div>\n",
       "<style scoped>\n",
       "    .dataframe tbody tr th:only-of-type {\n",
       "        vertical-align: middle;\n",
       "    }\n",
       "\n",
       "    .dataframe tbody tr th {\n",
       "        vertical-align: top;\n",
       "    }\n",
       "\n",
       "    .dataframe thead th {\n",
       "        text-align: right;\n",
       "    }\n",
       "</style>\n",
       "<table border=\"1\" class=\"dataframe\">\n",
       "  <thead>\n",
       "    <tr style=\"text-align: right;\">\n",
       "      <th></th>\n",
       "      <th>station01</th>\n",
       "      <th>station02</th>\n",
       "      <th>station03</th>\n",
       "      <th>station04</th>\n",
       "      <th>station05</th>\n",
       "      <th>station06</th>\n",
       "      <th>station07</th>\n",
       "      <th>station08</th>\n",
       "      <th>station09</th>\n",
       "      <th>station10</th>\n",
       "    </tr>\n",
       "  </thead>\n",
       "  <tbody>\n",
       "    <tr>\n",
       "      <td>station01</td>\n",
       "      <td>263.545074</td>\n",
       "      <td>524.223772</td>\n",
       "      <td>-444.523665</td>\n",
       "      <td>338.332407</td>\n",
       "      <td>473.941933</td>\n",
       "      <td>131.504270</td>\n",
       "      <td>588.792041</td>\n",
       "      <td>141.623995</td>\n",
       "      <td>144.421300</td>\n",
       "      <td>668.447656</td>\n",
       "    </tr>\n",
       "    <tr>\n",
       "      <td>station02</td>\n",
       "      <td>524.223772</td>\n",
       "      <td>5413.331301</td>\n",
       "      <td>-1175.470345</td>\n",
       "      <td>1513.407522</td>\n",
       "      <td>2991.104721</td>\n",
       "      <td>658.813105</td>\n",
       "      <td>2949.780676</td>\n",
       "      <td>858.442549</td>\n",
       "      <td>652.872935</td>\n",
       "      <td>3098.153845</td>\n",
       "    </tr>\n",
       "    <tr>\n",
       "      <td>station03</td>\n",
       "      <td>-444.523665</td>\n",
       "      <td>-1175.470345</td>\n",
       "      <td>17775.535495</td>\n",
       "      <td>-910.884210</td>\n",
       "      <td>-736.048221</td>\n",
       "      <td>-437.162845</td>\n",
       "      <td>-425.449576</td>\n",
       "      <td>170.523981</td>\n",
       "      <td>-354.620739</td>\n",
       "      <td>-1240.010541</td>\n",
       "    </tr>\n",
       "    <tr>\n",
       "      <td>station04</td>\n",
       "      <td>338.332407</td>\n",
       "      <td>1513.407522</td>\n",
       "      <td>-910.884210</td>\n",
       "      <td>25424.071579</td>\n",
       "      <td>9200.115147</td>\n",
       "      <td>1666.724509</td>\n",
       "      <td>4053.332476</td>\n",
       "      <td>2452.626229</td>\n",
       "      <td>1302.479945</td>\n",
       "      <td>1268.846931</td>\n",
       "    </tr>\n",
       "    <tr>\n",
       "      <td>station05</td>\n",
       "      <td>473.941933</td>\n",
       "      <td>2991.104721</td>\n",
       "      <td>-736.048221</td>\n",
       "      <td>9200.115147</td>\n",
       "      <td>29054.864907</td>\n",
       "      <td>5861.191949</td>\n",
       "      <td>11608.932511</td>\n",
       "      <td>7224.946221</td>\n",
       "      <td>2441.208972</td>\n",
       "      <td>2103.946419</td>\n",
       "    </tr>\n",
       "    <tr>\n",
       "      <td>station06</td>\n",
       "      <td>131.504270</td>\n",
       "      <td>658.813105</td>\n",
       "      <td>-437.162845</td>\n",
       "      <td>1666.724509</td>\n",
       "      <td>5861.191949</td>\n",
       "      <td>9847.818797</td>\n",
       "      <td>2465.223640</td>\n",
       "      <td>1803.917999</td>\n",
       "      <td>698.507701</td>\n",
       "      <td>611.736914</td>\n",
       "    </tr>\n",
       "    <tr>\n",
       "      <td>station07</td>\n",
       "      <td>588.792041</td>\n",
       "      <td>2949.780676</td>\n",
       "      <td>-425.449576</td>\n",
       "      <td>4053.332476</td>\n",
       "      <td>11608.932511</td>\n",
       "      <td>2465.223640</td>\n",
       "      <td>48557.622830</td>\n",
       "      <td>3542.673580</td>\n",
       "      <td>4009.162655</td>\n",
       "      <td>2995.068146</td>\n",
       "    </tr>\n",
       "    <tr>\n",
       "      <td>station08</td>\n",
       "      <td>141.623995</td>\n",
       "      <td>858.442549</td>\n",
       "      <td>170.523981</td>\n",
       "      <td>2452.626229</td>\n",
       "      <td>7224.946221</td>\n",
       "      <td>1803.917999</td>\n",
       "      <td>3542.673580</td>\n",
       "      <td>2990.521902</td>\n",
       "      <td>808.232096</td>\n",
       "      <td>693.890804</td>\n",
       "    </tr>\n",
       "    <tr>\n",
       "      <td>station09</td>\n",
       "      <td>144.421300</td>\n",
       "      <td>652.872935</td>\n",
       "      <td>-354.620739</td>\n",
       "      <td>1302.479945</td>\n",
       "      <td>2441.208972</td>\n",
       "      <td>698.507701</td>\n",
       "      <td>4009.162655</td>\n",
       "      <td>808.232096</td>\n",
       "      <td>1110.566816</td>\n",
       "      <td>756.384329</td>\n",
       "    </tr>\n",
       "    <tr>\n",
       "      <td>station10</td>\n",
       "      <td>668.447656</td>\n",
       "      <td>3098.153845</td>\n",
       "      <td>-1240.010541</td>\n",
       "      <td>1268.846931</td>\n",
       "      <td>2103.946419</td>\n",
       "      <td>611.736914</td>\n",
       "      <td>2995.068146</td>\n",
       "      <td>693.890804</td>\n",
       "      <td>756.384329</td>\n",
       "      <td>4559.290660</td>\n",
       "    </tr>\n",
       "  </tbody>\n",
       "</table>\n",
       "</div>"
      ],
      "text/plain": [
       "            station01    station02     station03     station04     station05  \\\n",
       "station01  263.545074   524.223772   -444.523665    338.332407    473.941933   \n",
       "station02  524.223772  5413.331301  -1175.470345   1513.407522   2991.104721   \n",
       "station03 -444.523665 -1175.470345  17775.535495   -910.884210   -736.048221   \n",
       "station04  338.332407  1513.407522   -910.884210  25424.071579   9200.115147   \n",
       "station05  473.941933  2991.104721   -736.048221   9200.115147  29054.864907   \n",
       "station06  131.504270   658.813105   -437.162845   1666.724509   5861.191949   \n",
       "station07  588.792041  2949.780676   -425.449576   4053.332476  11608.932511   \n",
       "station08  141.623995   858.442549    170.523981   2452.626229   7224.946221   \n",
       "station09  144.421300   652.872935   -354.620739   1302.479945   2441.208972   \n",
       "station10  668.447656  3098.153845  -1240.010541   1268.846931   2103.946419   \n",
       "\n",
       "             station06     station07    station08    station09    station10  \n",
       "station01   131.504270    588.792041   141.623995   144.421300   668.447656  \n",
       "station02   658.813105   2949.780676   858.442549   652.872935  3098.153845  \n",
       "station03  -437.162845   -425.449576   170.523981  -354.620739 -1240.010541  \n",
       "station04  1666.724509   4053.332476  2452.626229  1302.479945  1268.846931  \n",
       "station05  5861.191949  11608.932511  7224.946221  2441.208972  2103.946419  \n",
       "station06  9847.818797   2465.223640  1803.917999   698.507701   611.736914  \n",
       "station07  2465.223640  48557.622830  3542.673580  4009.162655  2995.068146  \n",
       "station08  1803.917999   3542.673580  2990.521902   808.232096   693.890804  \n",
       "station09   698.507701   4009.162655   808.232096  1110.566816   756.384329  \n",
       "station10   611.736914   2995.068146   693.890804   756.384329  4559.290660  "
      ]
     },
     "execution_count": 15,
     "metadata": {},
     "output_type": "execute_result"
    }
   ],
   "source": [
    "df_diesel.cov()"
   ]
  },
  {
   "cell_type": "markdown",
   "metadata": {},
   "source": [
    "In general, we have to sum all the variances with all the permutations without repetitions and ordered of covariance values of couples: (k-permutations)$\\frac{n!}{(n-k)!}$.\n",
    "\n",
    "$$Total\\ variation\\ among\\ stations =\\sum_iVar(St_i)+2\\sum_{i<j}Cov(St_i,St_j)$$\n",
    "\n",
    "For example:\n",
    "\n",
    "$$=Var(A)+Var(B)+Var(C)+2Cov(A,B)+2Cov(A,C)+2Cov(B,C)$$\n",
    "\n",
    "Using formalism of the ***matrix of covariance*** we can then apply it to all possible cases in python without other transformations of computations.\n",
    "\n",
    "If we have a sum of *N* stations such as:\n",
    "\n",
    "$$W =\\sum_{n=1}^{N}a_nSt_n$$\n",
    "\n",
    "we can write the variance of *W* in matrix formalism as:\n",
    "\n",
    "$$ Var[W] = v^TM_v $$\n",
    "\n",
    "where *v* is a vector containing all the $a_n$:\n",
    "\n",
    "$$v = \\begin{pmatrix} a_1 \\\\ a_2 \\\\ \\vdots \\\\ a_n\\end{pmatrix}$$\n",
    "\n",
    "$Cov[St_a,St_a] = Var[St_a] $ so the covariance table we have above is the same as the matrix *M* (the matrix of covariance):\n",
    "\n",
    "$$ \n",
    " \\begin{pmatrix}\n",
    "  Var[St_1] & Cov[St_1,St_2] & Cov[St_1,St_3] & \\cdots & Cov[St_1,St_n] \\\\\n",
    "  Cov[St_2,St_1] & Var[St_2] & Cov[St_2,St_3] & \\cdots & Cov[St_2,St_n] \\\\\n",
    "  Cov[St_3,St_1] & Cov[St_3,St_2] & Var[St_3] & \\cdots & Cov[St_3,St_n] \\\\\n",
    "  \\vdots  & \\vdots  & \\vdots & \\ddots & \\vdots  \\\\\n",
    "  Cov[St_n,St_1] & Cov[St_n,St_2] &  Cov[St_n,St_3] & \\cdots & Var[St_n]\n",
    " \\end{pmatrix}\n",
    "$$\n",
    "\n",
    "which is a symmetric matrix, with $Cov[St_a,St_b]=Cov[St_b,St_a]$ so:\n",
    "\n",
    "$$Var[W] = \\sum_iVar(St_i)+2\\sum_{i<j}Cov(St_i,St_j) = v^TM_v $$\n",
    "\n",
    "that it can be computed by the sum of all the elements of the matrix:"
   ]
  },
  {
   "cell_type": "code",
   "execution_count": 43,
   "metadata": {},
   "outputs": [
    {
     "name": "stdout",
     "output_type": "stream",
     "text": [
      "The total variation is: 300495.90084159793\n",
      "The standard deviation σ is: 548.1750640457826\n",
      "The mean μ is: 2439.82356510628\n",
      "The median is: 2468.02883237973\n"
     ]
    }
   ],
   "source": [
    "var_W = df_diesel.cov().to_numpy().sum()\n",
    "print('The total variation is:',var_W)\n",
    "#sqrt to calculate the standard deviation\n",
    "stdv_W = var_W**0.5\n",
    "print('The standard deviation σ is:',stdv_W)\n",
    "#print the overall mean\n",
    "print('The mean μ is:',total_mean)\n",
    "print('The median is:',total_median)"
   ]
  },
  {
   "cell_type": "code",
   "execution_count": 17,
   "metadata": {},
   "outputs": [
    {
     "data": {
      "text/plain": [
       "-0.15435908593843412"
      ]
     },
     "execution_count": 17,
     "metadata": {},
     "output_type": "execute_result"
    }
   ],
   "source": [
    "skewness_w = 3*(total_mean -total_median)/stdv_W \n",
    "skewness_w"
   ]
  },
  {
   "cell_type": "code",
   "execution_count": 41,
   "metadata": {},
   "outputs": [],
   "source": [
    "from scipy.stats import norm\n",
    "from scipy.stats import skewnorm\n",
    "from scipy.stats import lognorm\n",
    "from scipy.stats import skew"
   ]
  },
  {
   "cell_type": "code",
   "execution_count": 341,
   "metadata": {},
   "outputs": [],
   "source": [
    "a, b = 0, 1500\n",
    "mu, sigma = 100, 15\n",
    "dist = stats.truncnorm((a - mu) / sigma, (b - mu) / sigma, loc=mu, scale=sigma)\n",
    "\n",
    "values = dist.rvs(397)"
   ]
  },
  {
   "cell_type": "code",
   "execution_count": 347,
   "metadata": {},
   "outputs": [],
   "source": [
    "dflit = pd.DataFrame(values)\n",
    "dflit.to_excel(\"output.xlsx\")"
   ]
  },
  {
   "cell_type": "code",
   "execution_count": 27,
   "metadata": {},
   "outputs": [
    {
     "data": {
      "image/png": "[encoded data removed]",
      "text/plain": [
       "<Figure size 864x576 with 2 Axes>"
      ]
     },
     "metadata": {
      "needs_background": "light"
     },
     "output_type": "display_data"
    }
   ],
   "source": [
    "datz = df_diesel.station07\n",
    "#resizing plot and initialize subplots\n",
    "plt.rcParams['figure.figsize'] = [12, 8]\n",
    "fig, axes = plt.subplots(nrows=2, ncols=1, sharex=True)\n",
    "#plotting boxplot\n",
    "axes[0].boxplot(datz, 0, 'gD', vert=False)\n",
    "axes[0].axis('off')\n",
    "#plotting hist\n",
    "axes[1].hist(datz, 80, density=True, alpha=.5, edgecolor='black')\n",
    "axes[1].set_yticklabels([])\n",
    "#displaying plot\n",
    "plt.subplots_adjust(hspace=0)\n",
    "plt.show()"
   ]
  },
  {
   "cell_type": "code",
   "execution_count": 101,
   "metadata": {},
   "outputs": [
    {
     "data": {
      "application/vnd.jupyter.widget-view+json": {
       "model_id": "4c1e07f4743a44cdac43de04b08e99dc",
       "version_major": 2,
       "version_minor": 0
      },
      "text/plain": [
       "interactive(children=(FloatSlider(value=3518.0, description='liters', max=6496.49, min=543.0, step=25.0), Outp…"
      ]
     },
     "metadata": {},
     "output_type": "display_data"
    }
   ],
   "source": [
    "%matplotlib inline\n",
    "from ipywidgets import interactive\n",
    "\n",
    "np.random.seed(2006)\n",
    "#normal distribution \n",
    "mu, sigma = total_mean, stdv_W # mean and standard deviation\n",
    "s = abs(np.random.normal(mu, sigma, 5000))\n",
    "\n",
    "\n",
    "def f(liters):\n",
    "\n",
    "    # Create Figure and Axes instances\n",
    "    fig,ax = plt.subplots(1)\n",
    "\n",
    "    #plotting with denisty curve\n",
    "    count, bins, ignored = plt.hist(s, 100, density=True, \n",
    "                                alpha=.1, edgecolor='black')\n",
    "    x = bins\n",
    "    y = norm.pdf(x, mu, sigma)\n",
    "\n",
    "    # define components for area calculations\n",
    "    upper_bound = max(x)\n",
    "\n",
    "    ax.plot(x,y, linewidth=2, color='r')\n",
    "    ax.fill_between(x,y, where= (x>liters), color='c')\n",
    "    ax.axvline(mu, color='black', alpha=1, linewidth=.5)\n",
    "    ax.annotate('μ', xy=(mu+30,max(y)+0.00022), ha='left')\n",
    "   \n",
    "    #CDF comulative distribution function \n",
    "    plt.annotate(\"{:.2f}%\".format(100*(\n",
    "                                  norm(mu, sigma).sf(liters))), \n",
    "                 xy=(abs(liters)+300, min(y)*250), ha='center')\n",
    "\n",
    "    ax.set_yticklabels([])\n",
    "    ax.set_ylabel('frequency')\n",
    "    ax.set_xlabel('liters of diesel sold per hour for the company')\n",
    "    plt.show()\n",
    "\n",
    "    \n",
    "interactive_plot = interactive(f, liters=(round(min(s),0), round(max(s),0)*1.43, 25))\n",
    "output = interactive_plot.children[-1]\n",
    "#output.layout.height = '350px'\n",
    "interactive_plot"
   ]
  },
  {
   "cell_type": "code",
   "execution_count": null,
   "metadata": {},
   "outputs": [],
   "source": []
  },
  {
   "cell_type": "markdown",
   "metadata": {},
   "source": [
    "***"
   ]
  },
  {
   "cell_type": "markdown",
   "metadata": {},
   "source": [
    "## . Wine Sales Distribution Mapping for KPI Assesment"
   ]
  },
  {
   "cell_type": "markdown",
   "metadata": {},
   "source": [
    "A wine distribution company is requesting a sales distribution map to asses KPI based on specific district coverages."
   ]
  },
  {
   "cell_type": "markdown",
   "metadata": {},
   "source": [
    "https://jakevdp.github.io/PythonDataScienceHandbook/05.13-kernel-density-estimation.html"
   ]
  },
  {
   "cell_type": "markdown",
   "metadata": {},
   "source": [
    "http://www.comuni-italiani.it/03/index.html"
   ]
  },
  {
   "cell_type": "markdown",
   "metadata": {},
   "source": [
    "http://www.sottomentitespoglie.it/GeneratoreAziende.aspx"
   ]
  },
  {
   "cell_type": "markdown",
   "metadata": {},
   "source": [
    "http://www.comuniverso.it/index.cfm?pagina=genera%20mappa"
   ]
  },
  {
   "cell_type": "code",
   "execution_count": 1,
   "metadata": {},
   "outputs": [],
   "source": [
    "import pandas as pd\n",
    "import numpy as np"
   ]
  },
  {
   "cell_type": "code",
   "execution_count": 25,
   "metadata": {},
   "outputs": [
    {
     "data": {
      "text/plain": [
       "OrderedDict([('Barbera',\n",
       "                  WineType  InvoiceID          Region District                 City  QtySold\n",
       "              0    Barbera        629       Lombardia  Brescia  Desenzano del Garda        6\n",
       "              1    Barbera        962       Lombardia  Brescia          Montichiari       30\n",
       "              2    Barbera       2457       Lombardia  Mantova              Suzzara       13\n",
       "              3    Barbera       3388       Lombardia    Pavia              Voghera       53\n",
       "              4    Barbera        243  Emilia-Romagna  Bologna                Imola       24\n",
       "              ..       ...        ...             ...      ...                  ...      ...\n",
       "              790  Barbera     125370          Veneto   Verona          Vestenanova        6\n",
       "              791  Barbera      79375          Veneto  Vicenza            Agugliaro        7\n",
       "              792  Barbera      74880          Veneto  Vicenza            Albettone       13\n",
       "              793  Barbera      64242          Veneto  Vicenza               Alonte        3\n",
       "              794  Barbera      65390          Veneto  Vicenza     Asigliano Veneto       77\n",
       "              \n",
       "              [795 rows x 6 columns]),\n",
       "             ('Bonarda',\n",
       "                  WineType  InvoiceID     Region District                    City  QtySold\n",
       "              0    Bonarda        583  Lombardia  Bergamo      Adrara San Martino        7\n",
       "              1    Bonarda       1534  Lombardia  Bergamo  Almenno San Bartolomeo       13\n",
       "              2    Bonarda       2346  Lombardia  Bergamo               Antegnate       12\n",
       "              3    Bonarda       3720  Lombardia  Bergamo           Arzago d'Adda       13\n",
       "              4    Bonarda       2125  Lombardia  Bergamo               Bagnatica        7\n",
       "              ..       ...        ...        ...      ...                     ...      ...\n",
       "              606  Bonarda       3978  Lombardia   Milano    Robecco sul Naviglio        1\n",
       "              607  Bonarda       2912  Lombardia   Milano             Truccazzano       11\n",
       "              608  Bonarda       6904  Lombardia   Milano      Zibido San Giacomo       15\n",
       "              609  Bonarda        228  Lombardia     Lodi     Casaletto Lodigiano       12\n",
       "              610  Bonarda       1084  Lombardia     Lodi   San Martino in Strada       13\n",
       "              \n",
       "              [611 rows x 6 columns])])"
      ]
     },
     "execution_count": 25,
     "metadata": {},
     "output_type": "execute_result"
    }
   ],
   "source": [
    "dat = pd.read_excel('wine_sales_data.xlsx',\n",
    "sheet_name=['Barbera','Bonarda'],\n",
    "header=0,\n",
    "index_col=False,\n",
    "keep_default_na=True\n",
    ")\n",
    "#display first rows\n",
    "dat"
   ]
  },
  {
   "cell_type": "markdown",
   "metadata": {},
   "source": [
    "From the excel file we have collected data for Barbera and Bonarda wine, the features are:\n",
    "\n",
    "- ***WineType***: *Barbera* or *Bonarda*\n",
    "- ***InvoiceID***: The ID of the invoice of the sales operation\n",
    "- ***Region***: The region of Italy where the bottles was sold\n",
    "- ***District***: The district of the region where the bottles was sold\n",
    "- ***City***: The city where the bottles was sold\n",
    "- ***QtySold***: Then we have the quantity of the bottles of wine sold for each InvoiceID\n",
    "\n",
    "We can access the dataframes of each type of wine like this:"
   ]
  },
  {
   "cell_type": "code",
   "execution_count": 26,
   "metadata": {},
   "outputs": [
    {
     "data": {
      "text/html": [
       "<div>\n",
       "<style scoped>\n",
       "    .dataframe tbody tr th:only-of-type {\n",
       "        vertical-align: middle;\n",
       "    }\n",
       "\n",
       "    .dataframe tbody tr th {\n",
       "        vertical-align: top;\n",
       "    }\n",
       "\n",
       "    .dataframe thead th {\n",
       "        text-align: right;\n",
       "    }\n",
       "</style>\n",
       "<table border=\"1\" class=\"dataframe\">\n",
       "  <thead>\n",
       "    <tr style=\"text-align: right;\">\n",
       "      <th></th>\n",
       "      <th>WineType</th>\n",
       "      <th>InvoiceID</th>\n",
       "      <th>Region</th>\n",
       "      <th>District</th>\n",
       "      <th>City</th>\n",
       "      <th>QtySold</th>\n",
       "    </tr>\n",
       "  </thead>\n",
       "  <tbody>\n",
       "    <tr>\n",
       "      <td>0</td>\n",
       "      <td>Barbera</td>\n",
       "      <td>629</td>\n",
       "      <td>Lombardia</td>\n",
       "      <td>Brescia</td>\n",
       "      <td>Desenzano del Garda</td>\n",
       "      <td>6</td>\n",
       "    </tr>\n",
       "    <tr>\n",
       "      <td>1</td>\n",
       "      <td>Barbera</td>\n",
       "      <td>962</td>\n",
       "      <td>Lombardia</td>\n",
       "      <td>Brescia</td>\n",
       "      <td>Montichiari</td>\n",
       "      <td>30</td>\n",
       "    </tr>\n",
       "    <tr>\n",
       "      <td>2</td>\n",
       "      <td>Barbera</td>\n",
       "      <td>2457</td>\n",
       "      <td>Lombardia</td>\n",
       "      <td>Mantova</td>\n",
       "      <td>Suzzara</td>\n",
       "      <td>13</td>\n",
       "    </tr>\n",
       "    <tr>\n",
       "      <td>3</td>\n",
       "      <td>Barbera</td>\n",
       "      <td>3388</td>\n",
       "      <td>Lombardia</td>\n",
       "      <td>Pavia</td>\n",
       "      <td>Voghera</td>\n",
       "      <td>53</td>\n",
       "    </tr>\n",
       "    <tr>\n",
       "      <td>4</td>\n",
       "      <td>Barbera</td>\n",
       "      <td>243</td>\n",
       "      <td>Emilia-Romagna</td>\n",
       "      <td>Bologna</td>\n",
       "      <td>Imola</td>\n",
       "      <td>24</td>\n",
       "    </tr>\n",
       "    <tr>\n",
       "      <td>...</td>\n",
       "      <td>...</td>\n",
       "      <td>...</td>\n",
       "      <td>...</td>\n",
       "      <td>...</td>\n",
       "      <td>...</td>\n",
       "      <td>...</td>\n",
       "    </tr>\n",
       "    <tr>\n",
       "      <td>790</td>\n",
       "      <td>Barbera</td>\n",
       "      <td>125370</td>\n",
       "      <td>Veneto</td>\n",
       "      <td>Verona</td>\n",
       "      <td>Vestenanova</td>\n",
       "      <td>6</td>\n",
       "    </tr>\n",
       "    <tr>\n",
       "      <td>791</td>\n",
       "      <td>Barbera</td>\n",
       "      <td>79375</td>\n",
       "      <td>Veneto</td>\n",
       "      <td>Vicenza</td>\n",
       "      <td>Agugliaro</td>\n",
       "      <td>7</td>\n",
       "    </tr>\n",
       "    <tr>\n",
       "      <td>792</td>\n",
       "      <td>Barbera</td>\n",
       "      <td>74880</td>\n",
       "      <td>Veneto</td>\n",
       "      <td>Vicenza</td>\n",
       "      <td>Albettone</td>\n",
       "      <td>13</td>\n",
       "    </tr>\n",
       "    <tr>\n",
       "      <td>793</td>\n",
       "      <td>Barbera</td>\n",
       "      <td>64242</td>\n",
       "      <td>Veneto</td>\n",
       "      <td>Vicenza</td>\n",
       "      <td>Alonte</td>\n",
       "      <td>3</td>\n",
       "    </tr>\n",
       "    <tr>\n",
       "      <td>794</td>\n",
       "      <td>Barbera</td>\n",
       "      <td>65390</td>\n",
       "      <td>Veneto</td>\n",
       "      <td>Vicenza</td>\n",
       "      <td>Asigliano Veneto</td>\n",
       "      <td>77</td>\n",
       "    </tr>\n",
       "  </tbody>\n",
       "</table>\n",
       "<p>795 rows × 6 columns</p>\n",
       "</div>"
      ],
      "text/plain": [
       "    WineType  InvoiceID          Region District                 City  QtySold\n",
       "0    Barbera        629       Lombardia  Brescia  Desenzano del Garda        6\n",
       "1    Barbera        962       Lombardia  Brescia          Montichiari       30\n",
       "2    Barbera       2457       Lombardia  Mantova              Suzzara       13\n",
       "3    Barbera       3388       Lombardia    Pavia              Voghera       53\n",
       "4    Barbera        243  Emilia-Romagna  Bologna                Imola       24\n",
       "..       ...        ...             ...      ...                  ...      ...\n",
       "790  Barbera     125370          Veneto   Verona          Vestenanova        6\n",
       "791  Barbera      79375          Veneto  Vicenza            Agugliaro        7\n",
       "792  Barbera      74880          Veneto  Vicenza            Albettone       13\n",
       "793  Barbera      64242          Veneto  Vicenza               Alonte        3\n",
       "794  Barbera      65390          Veneto  Vicenza     Asigliano Veneto       77\n",
       "\n",
       "[795 rows x 6 columns]"
      ]
     },
     "execution_count": 26,
     "metadata": {},
     "output_type": "execute_result"
    }
   ],
   "source": [
    "wines = list(dat.items())\n",
    "#selecting the first (Barbera) [0] the first dict, and [1] the first table\n",
    "wines[0][1]"
   ]
  },
  {
   "cell_type": "code",
   "execution_count": 27,
   "metadata": {},
   "outputs": [
    {
     "name": "stdout",
     "output_type": "stream",
     "text": [
      "           InvoiceID     QtySold\n",
      "count     795.000000  795.000000\n",
      "mean    47352.113208   11.870440\n",
      "std     48557.310413   12.542003\n",
      "min       140.000000    1.000000\n",
      "25%     10651.500000    6.000000\n",
      "50%     31992.000000   10.000000\n",
      "75%     67580.000000   14.000000\n",
      "max    276332.000000  184.000000\n",
      "Total n° of bottle sold for Barbera wine: 9437 \n",
      "\n",
      "           InvoiceID     QtySold\n",
      "count     611.000000  611.000000\n",
      "mean    51164.878887   13.828151\n",
      "std     57179.465479   18.276158\n",
      "min       106.000000    1.000000\n",
      "25%     10807.500000    6.000000\n",
      "50%     29700.000000   10.000000\n",
      "75%     69934.500000   13.000000\n",
      "max    297616.000000  179.000000\n",
      "Total n° of bottle sold for Bonarda wine: 8449\n"
     ]
    }
   ],
   "source": [
    "#descriptives\n",
    "dfbarb = wines[0][1]\n",
    "dfbona = wines[1][1]\n",
    "print(dfbarb.describe())\n",
    "print('Total n° of bottle sold for Barbera wine:',sum(dfbarb.QtySold),'\\n')\n",
    "print(dfbona.describe())\n",
    "print('Total n° of bottle sold for Bonarda wine:',sum(dfbona.QtySold))"
   ]
  },
  {
   "cell_type": "markdown",
   "metadata": {},
   "source": [
    "From summary statistics we can see that the two types of wine have similar selling stats."
   ]
  },
  {
   "cell_type": "markdown",
   "metadata": {},
   "source": [
    "Now we need to process the data. To graphically represent distributions of bottle sold, instead of representing circles by quantity sold and plotting them on the map, we will use a technique slightly more sophisticated applied to species distribution of recorded observations. In the same way we can view the density map of distribution sales, like observations of species in the territory, and our species will be the type of wine.\n",
    "\n",
    "To do that first we need to expand our data, and duplicate/replicate the quantities for each sale. This because we need number of observations and not quntity of sales. The only data we need in this new dataset is the city and region:"
   ]
  },
  {
   "cell_type": "code",
   "execution_count": 28,
   "metadata": {},
   "outputs": [
    {
     "name": "stdout",
     "output_type": "stream",
     "text": [
      "0      Lombardia, Desenzano del Garda\n",
      "0      Lombardia, Desenzano del Garda\n",
      "0      Lombardia, Desenzano del Garda\n",
      "0      Lombardia, Desenzano del Garda\n",
      "0      Lombardia, Desenzano del Garda\n",
      "                    ...              \n",
      "794          Veneto, Asigliano Veneto\n",
      "794          Veneto, Asigliano Veneto\n",
      "794          Veneto, Asigliano Veneto\n",
      "794          Veneto, Asigliano Veneto\n",
      "794          Veneto, Asigliano Veneto\n",
      "Length: 9437, dtype: object\n",
      "0         Lombardia, Adrara San Martino\n",
      "0         Lombardia, Adrara San Martino\n",
      "0         Lombardia, Adrara San Martino\n",
      "0         Lombardia, Adrara San Martino\n",
      "0         Lombardia, Adrara San Martino\n",
      "                     ...               \n",
      "610    Lombardia, San Martino in Strada\n",
      "610    Lombardia, San Martino in Strada\n",
      "610    Lombardia, San Martino in Strada\n",
      "610    Lombardia, San Martino in Strada\n",
      "610    Lombardia, San Martino in Strada\n",
      "Length: 8449, dtype: object\n"
     ]
    }
   ],
   "source": [
    "locdfbarb = np.repeat((dfbarb.Region+', '+dfbarb.City), dfbarb.QtySold)\n",
    "locdfbona = np.repeat((dfbona.Region+', '+dfbona.City), dfbona.QtySold)\n",
    "print(locdfbarb)\n",
    "print(locdfbona)"
   ]
  },
  {
   "cell_type": "markdown",
   "metadata": {},
   "source": [
    "We can see that now we have the number of elements exactly as the number of bottles sold for each type of wine."
   ]
  },
  {
   "cell_type": "markdown",
   "metadata": {},
   "source": [
    "Now we need to get the coordinates for the locations we have, this process can be done with `geopy.geocoders` library:"
   ]
  },
  {
   "cell_type": "code",
   "execution_count": 29,
   "metadata": {},
   "outputs": [],
   "source": [
    "from geopy.geocoders import Nominatim\n",
    "import time"
   ]
  },
  {
   "cell_type": "markdown",
   "metadata": {},
   "source": [
    "The code to collect all the coordinates is simple but can take several minutes to run (approx 5min), just be patient."
   ]
  },
  {
   "cell_type": "code",
   "execution_count": 31,
   "metadata": {},
   "outputs": [
    {
     "name": "stdout",
     "output_type": "stream",
     "text": [
      "...please wait: coordinates elaboration for Barbera sales locations in progress!\n",
      "Barbera wine locations coordinates DONE!\n",
      "...please wait: coordinates elaboration for Bonarda sales locations in progress!\n",
      "Bonarda wine locations coordinates DONE!\n"
     ]
    }
   ],
   "source": [
    "#initializing geolocator\n",
    "geolocator = Nominatim(user_agent=\"nev_SLM_app\")\n",
    "\n",
    "#np.array assignment\n",
    "latbarb = np.array([])\n",
    "lonbarb = np.array([])\n",
    "latbona = np.array([])\n",
    "lonbona = np.array([])\n",
    "\n",
    "#spliting lists of locations into smaller chunks\n",
    "#to avoid geolocator overloads and disconnections errors\n",
    "f = lambda x,y: [ x[i:i+y] for i in range(0,len(x),y)]\n",
    "lsbarb = f(range(0, len(locdfbarb)), 1000)\n",
    "lsbona = f(range(0, len(locdfbona)), 1000)\n",
    "\n",
    "#elaborating coordinates for Barbera wine\n",
    "#iterating over every chunk of data\n",
    "print('...please wait: coordinates elaboration for Barbera sales locations in progress!')\n",
    "for x in lsbarb:\n",
    "    time.sleep(1)\n",
    "    c = 0\n",
    "    for i in locdfbarb[min(x):max(x)+1]:\n",
    "        if (locdfbarb[c-1:c].any() == locdfbarb[c:c+1].any()):\n",
    "            if (len(latbarb)==0):\n",
    "                pass\n",
    "            else:\n",
    "                latbarb = np.append(latbarb, latbarb[len(latbarb)-1])\n",
    "                lonbarb = np.append(lonbarb, lonbarb[len(lonbarb)-1]) \n",
    "        else:\n",
    "            try:\n",
    "                location = geolocator.geocode(i)\n",
    "                latbarb = np.append(latbarb, location.latitude)\n",
    "                lonbarb = np.append(lonbarb, location.longitude)\n",
    "            except:\n",
    "                try:\n",
    "                    time.sleep(1)\n",
    "                    location = geolocator.geocode(i)\n",
    "                    latbarb = np.append(latbarb, location.latitude)\n",
    "                    lonbarb = np.append(lonbarb, location.longitude)\n",
    "                except:\n",
    "                    print('Error occured! Check later for missing Barbera coordinates data(assigned -1)')\n",
    "                    latbarb = np.append(latbarb, -1)\n",
    "                    lonbarb = np.append(lonbarb, -1)  \n",
    "        c += 1\n",
    "print('Barbera wine locations coordinates DONE!')\n",
    "\n",
    "#elaborating coordinates for Bonarda wine\n",
    "#iterating over every chunk of data\n",
    "print('...please wait: coordinates elaboration for Bonarda sales locations in progress!')\n",
    "for x in lsbona:\n",
    "    time.sleep(1)\n",
    "    c = 0\n",
    "    for i in locdfbona[min(x):max(x)+1]:\n",
    "        if (locdfbona[c-1:c].any() == locdfbona[c:c+1].any()):\n",
    "            if (len(latbona)==0):\n",
    "                pass\n",
    "            else:\n",
    "                latbona = np.append(latbona, latbona[len(latbona)-1])\n",
    "                lonbona = np.append(lonbona, lonbona[len(lonbona)-1]) \n",
    "        else:\n",
    "            try:\n",
    "                location = geolocator.geocode(i)\n",
    "                latbona = np.append(latbona, location.latitude)\n",
    "                lonbona = np.append(lonbona, location.longitude)\n",
    "            except:\n",
    "                try:\n",
    "                    time.sleep(1)\n",
    "                    location = geolocator.geocode(i)\n",
    "                    latbona = np.append(latbona, location.latitude)\n",
    "                    lonbona = np.append(lonbona, location.longitude)\n",
    "                except:\n",
    "                    print('Error occured! Check later for missing Bonarda coordinates data(assigned -1)')\n",
    "                    latbona = np.append(latbona, -1)\n",
    "                    lonbona = np.append(lonbona, -1)                \n",
    "        c += 1\n",
    "print('Bonarda wine locations coordinates DONE!')"
   ]
  },
  {
   "cell_type": "markdown",
   "metadata": {},
   "source": [
    "We have all the data locations coordinates, now let's check if there are errors:"
   ]
  },
  {
   "cell_type": "code",
   "execution_count": 32,
   "metadata": {},
   "outputs": [
    {
     "name": "stdout",
     "output_type": "stream",
     "text": [
      "Result check:\n",
      "GOOD: The number of elements for Barbera is correct!\n",
      "GOOD: The number of elements for Bonarda is correct!\n",
      "Missing value check:\n",
      "Number of missing values for Barbera coordinates = 0\n",
      "Number of missing values for Bonarda coordinates = 0\n"
     ]
    }
   ],
   "source": [
    "#checking for errors\n",
    "#and printing results\n",
    "print('Result check:')\n",
    "time.sleep(0.330)\n",
    "if (len(latbarb)==len(lonbarb)):\n",
    "    if (len(locdfbarb)==len(lonbarb)):\n",
    "        print('GOOD: The number of elements for Barbera is correct!')\n",
    "    else:\n",
    "        print('ERROR: The number of elements for Barbera are not the same.')\n",
    "else:\n",
    "    print('ERROR: The number of lat and lon coordinates for Barbera are not the same.')\n",
    "time.sleep(0.330)\n",
    "if (len(latbona)==len(lonbona)):\n",
    "    if (len(locdfbona)==len(lonbona)):\n",
    "        print('GOOD: The number of elements for Bonarda is correct!')\n",
    "    else:\n",
    "        print('ERROR: The number of elements for Bonarda are not the same.')\n",
    "else:\n",
    "    print('ERROR: The number of lat and lon coordinates for Bonarda are not the same.')\n",
    "time.sleep(0.330)\n",
    "print('Missing value check:')\n",
    "time.sleep(0.330)\n",
    "barbmissing = sum(1 for i in latbarb if i == -1)\n",
    "print('Number of missing values for Barbera coordinates =',barbmissing)\n",
    "time.sleep(0.330)\n",
    "bonamissing = sum(1 for i in latbona if i == -1)\n",
    "print('Number of missing values for Bonarda coordinates =',bonamissing)\n",
    "time.sleep(0.330)\n",
    "if (barbmissing >0 and barbmissing/len(locdfbarb) < 0.05):\n",
    "    print('N° of missing < 5%: Removing missing Barbera data...')\n",
    "    latbarb = list(filter(lambda x: x == [-1], latbona))\n",
    "    lonbarb = list(filter(lambda x: x == [-1], latbona))\n",
    "else:\n",
    "    if (barbmissing > 0):\n",
    "        print('There are too many missing coordinates! Restart again the code, or check list of locations.')\n",
    "time.sleep(0.330)\n",
    "if (bonamissing >0 and bonamissing/len(locdfbona) < 0.05):\n",
    "    print('N° of missing < 5%: Removing missing Bonarda data...')\n",
    "    latbona = list(filter(lambda x: x == [-1], latbona))\n",
    "    lonbona = list(filter(lambda x: x == [-1], latbona))\n",
    "else:\n",
    "    if (bonamissing > 0):\n",
    "        print('There are too many missing coordinates! Restart again the code, or check list of locations.')"
   ]
  },
  {
   "cell_type": "markdown",
   "metadata": {},
   "source": [
    "So we've got all the coordinates for all locations without errors and missing data."
   ]
  },
  {
   "cell_type": "markdown",
   "metadata": {},
   "source": [
    "Now we can save the data into a csv file:"
   ]
  },
  {
   "cell_type": "code",
   "execution_count": 52,
   "metadata": {},
   "outputs": [
    {
     "name": "stdout",
     "output_type": "stream",
     "text": [
      "                               Location   Latitude  Longitude     Type\n",
      "0        Lombardia, Desenzano del Garda  45.469485  10.538947  Barbera\n",
      "1        Lombardia, Desenzano del Garda  45.469485  10.538947  Barbera\n",
      "2        Lombardia, Desenzano del Garda  45.469485  10.538947  Barbera\n",
      "3        Lombardia, Desenzano del Garda  45.469485  10.538947  Barbera\n",
      "4        Lombardia, Desenzano del Garda  45.469485  10.538947  Barbera\n",
      "...                                 ...        ...        ...      ...\n",
      "17881  Lombardia, San Martino in Strada  45.360000   9.106028  Bonarda\n",
      "17882  Lombardia, San Martino in Strada  45.360000   9.106028  Bonarda\n",
      "17883  Lombardia, San Martino in Strada  45.360000   9.106028  Bonarda\n",
      "17884  Lombardia, San Martino in Strada  45.360000   9.106028  Bonarda\n",
      "17885  Lombardia, San Martino in Strada  45.360000   9.106028  Bonarda\n",
      "\n",
      "[17886 rows x 4 columns]\n"
     ]
    }
   ],
   "source": [
    "#collecting Barbera data\n",
    "Type = 'Barbera'\n",
    "data_barbera = list(zip(locdfbarb, latbarb, lonbarb))\n",
    "df_barbera = pd.DataFrame(data_barbera, columns = ['Location', 'Latitude', 'Longitude']) \n",
    "df_barbera['Type'] = Type\n",
    "#collecting Bonarda data\n",
    "Type = 'Bonarda'\n",
    "data_bonarda = list(zip(locdfbona, latbona, lonbona))\n",
    "df_bonarda = pd.DataFrame(data_bonarda, columns = ['Location', 'Latitude', 'Longitude']) \n",
    "df_bonarda['Type'] = Type\n",
    "#appending all data together\n",
    "df_all = df_barbera.append(df_bonarda, ignore_index=True)\n",
    "#saving into csv file\n",
    "df_all.to_csv ('wine_sales_coordinates.csv', index = None, header=True)\n",
    "print(df_all)"
   ]
  },
  {
   "cell_type": "code",
   "execution_count": 2,
   "metadata": {},
   "outputs": [],
   "source": [
    "df_all = pd.read_csv('wine_sales_coordinates.csv')"
   ]
  },
  {
   "cell_type": "code",
   "execution_count": 3,
   "metadata": {},
   "outputs": [],
   "source": [
    "#create a grid from data\n",
    "xgrid = np.sort(np.array(list(set(df_all.Longitude))))\n",
    "ygrid = np.sort(np.array(list(set(df_all.Latitude))))\n",
    "#convert type into dummy variable\n",
    "types = np.array([1 if i==\"Barbera\" else 0 for i in df_all.Type], dtype='int')\n",
    "#lat lon array from df\n",
    "latlon = np.vstack([df_all.Latitude,\n",
    "                    df_all.Longitude]).T"
   ]
  },
  {
   "cell_type": "markdown",
   "metadata": {},
   "source": [
    "latlon"
   ]
  },
  {
   "cell_type": "code",
   "execution_count": 54,
   "metadata": {},
   "outputs": [
    {
     "name": "stdout",
     "output_type": "stream",
     "text": [
      "9.748820669972083\n",
      "45.4366674414794\n"
     ]
    }
   ],
   "source": [
    "print(xgrid.mean())\n",
    "print(ygrid.mean())"
   ]
  },
  {
   "cell_type": "markdown",
   "metadata": {},
   "source": [
    "Italy districts shapefile from :https://www4.istat.it/it/archivio/209722\n",
    "\n",
    "Country shapefiles from:https://www.diva-gis.org/gdata"
   ]
  },
  {
   "cell_type": "code",
   "execution_count": 4,
   "metadata": {},
   "outputs": [],
   "source": [
    "import geopandas as gp"
   ]
  },
  {
   "cell_type": "code",
   "execution_count": 30,
   "metadata": {},
   "outputs": [
    {
     "data": {
      "text/plain": [
       "{'init': 'epsg:32632'}"
      ]
     },
     "execution_count": 30,
     "metadata": {},
     "output_type": "execute_result"
    }
   ],
   "source": [
    "s = gp.read_file(r'ProvCM01012018_g\\ProvCM01012018_g_WGS84.shp')\n",
    "\n",
    "#checking type of projection\n",
    "s.crs"
   ]
  },
  {
   "cell_type": "markdown",
   "metadata": {},
   "source": [
    "So we have WGS84 (EPSG:32632) we need to re-project to EPSG:4326 in order to be used on our plot below."
   ]
  },
  {
   "cell_type": "code",
   "execution_count": 32,
   "metadata": {},
   "outputs": [
    {
     "data": {
      "text/plain": [
       "0    POLYGON ((7.85904 45.59758, 7.86228 45.59699, ...\n",
       "1    POLYGON ((8.20447 45.93567, 8.21365 45.92490, ...\n",
       "2    POLYGON ((8.49688 45.83934, 8.49996 45.83402, ...\n",
       "3    MULTIPOLYGON (((7.99090 44.82381, 7.99348 44.8...\n",
       "4    POLYGON ((8.04681 45.12815, 8.04572 45.12300, ...\n",
       "Name: geometry, dtype: geometry"
      ]
     },
     "execution_count": 32,
     "metadata": {},
     "output_type": "execute_result"
    }
   ],
   "source": [
    "#make a copy of shapefile\n",
    "s_proj = s.copy()\n",
    "#using os to link the 'PROJ_LIB' to environment\n",
    "import os\n",
    "os.environ['PROJ_LIB'] = '/Users/Pc/Anaconda3/pkgs/proj4-5.1.0-hfa6e2cd_1/Library/share'\n",
    "#re.project to epsg:4326 and print head of conversion\n",
    "s_proj['geometry'] = s_proj['geometry'].to_crs(epsg=4326)\n",
    "s_proj['geometry'].head()"
   ]
  },
  {
   "cell_type": "code",
   "execution_count": 33,
   "metadata": {},
   "outputs": [],
   "source": [
    "#write the new shapefile with a different name\n",
    "s_proj.to_file(r'ProvCM01012018_g\\ProvCM01012018_EPSG4326.shp')"
   ]
  },
  {
   "cell_type": "markdown",
   "metadata": {},
   "source": [
    "Now that the shapefile with our italian districts are reprojected as we want, we can start `basemap` and start to plot our coordinates: "
   ]
  },
  {
   "cell_type": "code",
   "execution_count": 4,
   "metadata": {},
   "outputs": [],
   "source": [
    "#importing library\n",
    "from mpl_toolkits.basemap import Basemap\n",
    "import matplotlib.pyplot as plt"
   ]
  },
  {
   "cell_type": "code",
   "execution_count": 57,
   "metadata": {},
   "outputs": [
    {
     "data": {
      "image/png": "[encoded data removed]",
      "text/plain": [
       "<Figure size 1152x288 with 1 Axes>"
      ]
     },
     "metadata": {},
     "output_type": "display_data"
    }
   ],
   "source": [
    "#plot coastlines and shapefile with basemap\n",
    "zoom = 0.5\n",
    "m = Basemap(projection='tmerc', lat_0 = 45.5, lon_0 = 10, resolution='i',\n",
    "            llcrnrlat=ygrid.min()-zoom, urcrnrlat=ygrid.max()+zoom,\n",
    "            llcrnrlon=xgrid.min()-zoom, urcrnrlon=xgrid.max()+zoom)\n",
    "m.drawmapboundary(fill_color='#DDEEFF')\n",
    "m.fillcontinents(color='#FFEEDD')\n",
    "m.drawcoastlines(color='gray', zorder=2)\n",
    "m.drawcountries(color='gray', zorder=2)\n",
    "m.readshapefile(r'ProvCM01012018_g\\ProvCM01012018_EPSG4326','ProvCM01012018_EPSG4326')\n",
    "\n",
    "#resizing plot\n",
    "plt.rcParams['figure.figsize'] = [16, 4]\n",
    "\n",
    "#plot selling locations\n",
    "m.scatter(latlon[:, 1], latlon[:, 0], zorder=3, alpha=0.3,\n",
    "          c=types, cmap='rainbow', latlon=True);"
   ]
  },
  {
   "cell_type": "markdown",
   "metadata": {},
   "source": [
    "As we can see the plot is okay, but it is not usefull even adjusting alpha of the scatter plot we cannot see how the sales are covering or not the districts. We need to use the Kernel Density Estimation method to plot a density map over the territory and make it easy for the company to evaluate KPIs."
   ]
  },
  {
   "cell_type": "code",
   "execution_count": 5,
   "metadata": {},
   "outputs": [],
   "source": [
    "from sklearn.neighbors import KernelDensity"
   ]
  },
  {
   "cell_type": "code",
   "execution_count": 175,
   "metadata": {},
   "outputs": [
    {
     "data": {
      "image/png": "[encoded data removed]",
      "text/plain": [
       "<Figure size 1152x288 with 2 Axes>"
      ]
     },
     "metadata": {},
     "output_type": "display_data"
    }
   ],
   "source": [
    "#Set up the data grid for the contour plot\n",
    "X, Y = np.meshgrid(xgrid[::5], ygrid[::5][::-1])\n",
    "xy = np.vstack([Y.ravel(), X.ravel()]).T\n",
    "xy = np.radians(xy)\n",
    "\n",
    "#Create two side-by-side plots\n",
    "fig, ax = plt.subplots(1, 2)\n",
    "fig.subplots_adjust(left=0.05, right=0.95, wspace=0.05)\n",
    "species_names = ['Barbera', 'Bonarda']\n",
    "cmaps = ['Purples', 'Purples']\n",
    "\n",
    "for i, axi in enumerate(ax):\n",
    "    axi.set_title(species_names[i])\n",
    "    \n",
    "    #plot coastlines with basemap\n",
    "    m = Basemap(projection='cyl', llcrnrlat=Y.min(),\n",
    "                urcrnrlat=Y.max(), llcrnrlon=X.min(),\n",
    "                urcrnrlon=X.max(), resolution='i', ax=axi)\n",
    "    m.drawmapboundary(fill_color='#DDEEFF')\n",
    "    m.drawcoastlines()\n",
    "    m.drawcountries()\n",
    "    m.readshapefile(r'ProvCM01012018_g\\ProvCM01012018_EPSG4326','ProvCM01012018_EPSG4326')\n",
    "    \n",
    "    #construct a spherical kernel density estimate of the distribution with 'haversine' metric\n",
    "    kde = KernelDensity(kernel='gaussian', bandwidth=0.003, metric='haversine')\n",
    "    kde.fit(np.radians(latlon[types == i]))\n",
    "\n",
    "    #evaluate Z\n",
    "    Z = np.exp(kde.score_samples(xy))\n",
    "    Z = Z.reshape(X.shape)\n",
    "\n",
    "    #plot contours of the density\n",
    "    levels = np.linspace(0, Z.max(), 50)\n",
    "    axi.contourf(X, Y, Z, levels=levels, cmap=cmaps[i])"
   ]
  },
  {
   "cell_type": "code",
   "execution_count": 150,
   "metadata": {},
   "outputs": [],
   "source": [
    "from matplotlib.patches import Polygon\n",
    "from matplotlib.collections import PatchCollection\n",
    "from matplotlib.patches import PathPatch\n",
    "import shapefile\n",
    "import matplotlib.font_manager as fm"
   ]
  },
  {
   "cell_type": "code",
   "execution_count": 157,
   "metadata": {},
   "outputs": [],
   "source": [
    "kpi_barb = ['Milano','Monza e della Brianza','Pavia','Como','Biella','Verbano-Cusio-Ossola',\n",
    "             'Varese','Lecco','Bergamo','Brescia','Cremona','Lodi',\n",
    "             'Novara','Vercelli','Asti','Alessandria','Piacenza','Genova']\n",
    "\n",
    "kpi_bona = ['Milano','Monza e della Brianza','Pavia','Cremona', 'Vicenza',\n",
    "             'Lodi','Mantova','Brescia','Verona','Bergamo','Padova', 'Piacenza',\n",
    "             'Ferrara','Rovigo','Venezia','Treviso','Ravenna']"
   ]
  },
  {
   "cell_type": "code",
   "execution_count": 176,
   "metadata": {},
   "outputs": [
    {
     "data": {
      "image/png": "[encoded data removed]",
      "text/plain": [
       "<Figure size 1152x288 with 2 Axes>"
      ]
     },
     "metadata": {},
     "output_type": "display_data"
    }
   ],
   "source": [
    "#Set up the data grid for the contour plot\n",
    "X, Y = np.meshgrid(xgrid[::5], ygrid[::5][::-1])\n",
    "xy = np.vstack([Y.ravel(), X.ravel()]).T\n",
    "xy = np.radians(xy)\n",
    "\n",
    "#resizing plot\n",
    "plt.rcParams['figure.figsize'] = [16, 4]\n",
    "\n",
    "#Create two side-by-side plots\n",
    "fig, ax = plt.subplots(1, 2)\n",
    "fig.subplots_adjust(left=0.05, right=0.95, wspace=0.05)\n",
    "wine_names = ['Barbera', 'Bonarda']\n",
    "cmaps = ['Purples', 'Purples']\n",
    "\n",
    "#initializing lists for all types\n",
    "ex_barb, ep_barb, ex_bona, ep_bona = ([] for i in range(4))\n",
    "sig_check_barb, sig_check_bona, sig_barb_m, sig_bona_m = ([] for i in range(4))\n",
    "patches = [patches_barb,patches_bona]\n",
    "patches_c = [p_barb,p_bona]\n",
    "siglas = [sig_barb_m,sig_bona_m]\n",
    "sigg = [sig_barb,sig_bona]\n",
    "sigg_s = [sig_check_barb,sig_check_bona]\n",
    "grids_ex = [ex_barb,ex_bona]\n",
    "grids_ep = [ep_barb,ep_bona]\n",
    "kpis = [kpi_barb,kpi_bona]\n",
    "#initializing font variable for plotting district initials\n",
    "font = fm.FontProperties(weight='bold')\n",
    "\n",
    "for i, axi in enumerate(ax):\n",
    "    axi.set_title(wine_names[i])\n",
    "    \n",
    "    #basemap intialization, coastlines and national limits\n",
    "    m = Basemap(projection='cyl', llcrnrlat=Y.min(),\n",
    "                urcrnrlat=Y.max(), llcrnrlon=X.min(),\n",
    "                urcrnrlon=X.max(), resolution='i', ax=axi)\n",
    "    m.drawmapboundary(fill_color='#DDEEFF')\n",
    "    m.drawcoastlines(color='blue', linewidth=0.3)\n",
    "    m.drawcountries()\n",
    "    m.readshapefile(r'ProvCM01012018_g\\ProvCM01012018_EPSG4326','ProvCM01012018_EPSG4326', drawbounds = False)\n",
    "    m.readshapefile(r'medi_ita\\adri','adri')\n",
    "    m.readshapefile(r'medi_ita\\west_basin','west_basin')\n",
    "    m.readshapefile(r'FRA_adm\\FRA_adm0','FRA_adm0')\n",
    "    m.readshapefile(r'CHE_adm\\CHE_adm0','CHE_adm0')\n",
    "    \n",
    "    #construct a spherical kernel density estimate of the distribution with 'haversine' metric\n",
    "    kde = KernelDensity(kernel='gaussian', bandwidth=0.003, metric='haversine')\n",
    "    kde.fit(np.radians(latlon[types == i]))\n",
    "\n",
    "    #evaluate Z\n",
    "    Z = np.exp(kde.score_samples(xy))\n",
    "    Z = Z.reshape(X.shape)\n",
    "\n",
    "    #plot contours of the density\n",
    "    levels = np.linspace(0, Z.max(), 50)\n",
    "    axi.contourf(X, Y, Z, levels=levels, cmap=cmaps[i])\n",
    "    \n",
    "    #initializing shapes from shapefiles\n",
    "    shapes = [m.adri,m.west_basin,m.CHE_adm0,m.FRA_adm0]\n",
    "    patches_it = [Polygon(np.array(shape), True) for shapez in shapes for shape in shapez]\n",
    "    \n",
    "    #initializing other districts shapes for masking  \n",
    "    patches[i] = [Polygon(np.array(shape), True) \n",
    "                    for info, shape in \n",
    "                    zip(m.ProvCM01012018_EPSG4326_info, m.ProvCM01012018_EPSG4326) \n",
    "                    if info['DEN_PCM'] not in kpis[i]]            \n",
    "    \n",
    "    #initializing districts shapes of interest\n",
    "    patches_c[i] = [Polygon(np.array(shape), True) \n",
    "                    for info, shape in \n",
    "                    zip(m.ProvCM01012018_EPSG4326_info, m.ProvCM01012018_EPSG4326) \n",
    "                    if info['DEN_PCM'] in kpis[i]]           \n",
    "    \n",
    "    #initializing districts initials\n",
    "    sigg[i] = list(set([info['SIGLA']\n",
    "                    for info in \n",
    "                    m.ProvCM01012018_EPSG4326_info \n",
    "                    if info['DEN_PCM'] in kpis[i]]))\n",
    "    \n",
    "    #collecting coordinates and initials district names to plot\n",
    "    c = 0\n",
    "    for info, shape in zip(m.ProvCM01012018_EPSG4326_info, m.ProvCM01012018_EPSG4326):\n",
    "        if info['SIGLA'] in sigg[i]:\n",
    "            sigg_s[i].append(info['SIGLA'])\n",
    "            c += 1\n",
    "            if sigg_s[i].count(sigg_s[i][c-1]) < 2:\n",
    "                # center of polygon \n",
    "                x, y = np.array(shape).mean(axis=0)\n",
    "                siglas[i].append(info['SIGLA'])\n",
    "                grids_ex[i].append(x)\n",
    "                grids_ep[i].append(y)\n",
    "    \n",
    "    #district borders of interest plot            \n",
    "    axi.add_collection(PatchCollection(patches_c[i], color= '', edgecolor='k', linewidths=0.1, zorder=2, alpha=1))    \n",
    "    #districts masking plot\n",
    "    axi.add_collection(PatchCollection(patches[i], color='lightgrey', zorder=2, alpha=1))    \n",
    "    #country masking plot\n",
    "    axi.add_collection(PatchCollection(patches_it, color='white', edgecolor='k', linewidths=0.2, zorder=2, alpha=1))\n",
    "    #plot district initials \n",
    "    [\n",
    "     axi.text(ex, ep, siglas[i][ind], \n",
    "              color=\"white\", fontproperties=font, ha=\"center\")\n",
    "     for ind in range(0,len(siglas[i]))\n",
    "     for ex,ep in zip(np.nditer(grids_ex[i][ind]),np.nditer(grids_ep[i][ind])) \n",
    "     ]     \n",
    "     "
   ]
  },
  {
   "cell_type": "code",
   "execution_count": 163,
   "metadata": {},
   "outputs": [],
   "source": [
    "das=[1,2,3,4,5,6,7,8,9]\n",
    "bbb=[]\n",
    "ccc=[]\n",
    "aaa=[bbb,ccc]\n",
    "for i in das:\n",
    "    aaa[0].append(i)"
   ]
  },
  {
   "cell_type": "code",
   "execution_count": 170,
   "metadata": {},
   "outputs": [
    {
     "data": {
      "text/plain": [
       "'MI'"
      ]
     },
     "execution_count": 170,
     "metadata": {},
     "output_type": "execute_result"
    }
   ],
   "source": [
    "sigg_s[1][1]"
   ]
  },
  {
   "cell_type": "code",
   "execution_count": null,
   "metadata": {},
   "outputs": [],
   "source": [
    "c = 0\n",
    "for info, shape in zip(m.ProvCM01012018_EPSG4326_info, m.ProvCM01012018_EPSG4326):\n",
    "    if info['SIGLA'] in sig_barb:\n",
    "        sig_check_barb.append(info['SIGLA'])\n",
    "        c += 1\n",
    "        if sig_check_barb.count(sig_check_barb[c-1]) < 2:\n",
    "            # center of polygon \n",
    "            x, y = np.array(shape).mean(axis=0)\n",
    "            sig_barb_m.append(info['SIGLA'])\n",
    "            ex_barb.append(x)\n",
    "            ep_barb.append(y)\n",
    "c = 0            \n",
    "for info, shape in zip(m.ProvCM01012018_EPSG4326_info, m.ProvCM01012018_EPSG4326):\n",
    "    if info['SIGLA'] in sig_bona:\n",
    "        sig_check_bona.append(info['SIGLA'])\n",
    "        c += 1\n",
    "        if sig_check_bona.count(sig_check_bona[c-1]) < 2:\n",
    "            # center of polygon \n",
    "            x, y = np.array(shape).mean(axis=0)\n",
    "            sig_bona_m.append(info['SIGLA'])\n",
    "            ex_bona.append(x)\n",
    "            ep_bona.append(y)"
   ]
  }
 ],
 "metadata": {
  "kernelspec": {
   "display_name": "Python 3",
   "language": "python",
   "name": "python3"
  },
  "language_info": {
   "codemirror_mode": {
    "name": "ipython",
    "version": 3
   },
   "file_extension": ".py",
   "mimetype": "text/x-python",
   "name": "python",
   "nbconvert_exporter": "python",
   "pygments_lexer": "ipython3",
   "version": "3.7.4"
  }
 },
 "nbformat": 4,
 "nbformat_minor": 4
}
